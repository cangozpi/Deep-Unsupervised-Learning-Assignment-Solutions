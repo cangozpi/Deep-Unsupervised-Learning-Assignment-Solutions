{
  "cells": [
    {
      "cell_type": "markdown",
      "metadata": {
        "id": "view-in-github"
      },
      "source": [
        "<a href=\"https://colab.research.google.com/github/johnberg1/COMP447-547-S22/blob/main/homework1/HW1_Autoregressive_Models.ipynb\" target=\"_parent\"><img src=\"https://colab.research.google.com/assets/colab-badge.svg\" alt=\"Open In Colab\"/></a>"
      ]
    },
    {
      "cell_type": "markdown",
      "metadata": {
        "id": "Rdy1FtrRpGcC"
      },
      "source": [
        "# Getting Started\n",
        "\n",
        "## Overview\n",
        "This semester, all homeworks will be conducted through Google Colab notebooks. All code for the homework assignment will be written and run in this notebook. Running in Colab will automatically provide a GPU, but you may also run this notebook locally by following [these instructions](https://research.google.com/colaboratory/local-runtimes.html) if you wish to use your own GPU.\n",
        "\n",
        "You will save images in the notebooks to use and fill out a given LaTeX template which will be submitted to Blackboard, along with your notebook code.\n",
        "\n",
        "## Using Colab\n",
        "On the left-hand side, you can click the different icons to see a Table of Contents of the assignment, as well as local files accessible through the notebook.\n",
        "\n",
        "Make sure to go to **Runtime -> Change runtime type** and select **GPU** as the hardware accelerator. This allows you to use a GPU. Run the cells below to get started on the assignment. Note that a session is open for a maximum of 12 hours, and using too much GPU compute may result in restricted access for a short period of time. Please start the homework early so you have ample time to work.\n",
        "\n",
        "**If you loaded this notebook from clicking \"Open in Colab\" from github, you will need to save it to your own Google Drive to keep your work.**\n",
        "\n",
        "## General Tips\n",
        "In the first problem, you will implement an autoregressive model and run it on two datasets (dataset 1 and dataset 2). The expected outputs for dataset 1 are already provided to help as a sanity check. In the second problem, you will train on one dataset (MNIST).\n",
        "\n",
        "After each part, there will be a written question that you will need to answer about that part. These questions are given under the **Inline Question** title. You just need to write your answers below those questions.\n",
        "\n",
        "Feel free to print whatever output (e.g. debugging code, training code, etc) you want. Your graded submission will be the report you submit together with a copy of your notebook.\n",
        "\n",
        "You will be implementing the code using PyTorch. Some parts of the code such as function headers are already provided to you, you will need to fill out the parts with \"YOUR CODE HERE\". Feel free to create more cells and more functions or modify the existing ones if you wish.\n",
        "\n",
        "After you complete the assignment, download all of the image outputted in the results/ folder (which you can find on the left dashboard by clicking the folder icon) and upload them to the figure folder in the given latex template.\n",
        "\n",
        "Run the cells below to download and load up the starter code."
      ]
    },
    {
      "cell_type": "code",
      "execution_count": 1,
      "metadata": {
        "id": "wUVy2glDtoaR",
        "colab": {
          "base_uri": "https://localhost:8080/"
        },
        "outputId": "e880192f-6244-40af-f241-79ba03a48956"
      },
      "outputs": [
        {
          "output_type": "stream",
          "name": "stdout",
          "text": [
            "Cloning into 'deepul'...\n",
            "remote: Enumerating objects: 206, done.\u001b[K\n",
            "remote: Counting objects: 100% (206/206), done.\u001b[K\n",
            "remote: Compressing objects: 100% (171/171), done.\u001b[K\n",
            "remote: Total 206 (delta 85), reused 127 (delta 26), pack-reused 0\u001b[K\n",
            "Receiving objects: 100% (206/206), 60.55 MiB | 25.91 MiB/s, done.\n",
            "Resolving deltas: 100% (85/85), done.\n",
            "Processing ./deepul\n",
            "\u001b[33m  DEPRECATION: A future pip version will change local packages to be built in-place without first copying to a temporary directory. We recommend you use --use-feature=in-tree-build to test your packages with this new behavior before it becomes the default.\n",
            "   pip 21.3 will remove support for this functionality. You can find discussion regarding this at https://github.com/pypa/pip/issues/7555.\u001b[0m\n",
            "Building wheels for collected packages: deepul\n",
            "  Building wheel for deepul (setup.py) ... \u001b[?25l\u001b[?25hdone\n",
            "  Created wheel for deepul: filename=deepul-0.1.0-py3-none-any.whl size=19875 sha256=496f351af11cf1c59d52770c13053503dfa88ffe7c30a8c156b5bd9f6c2cf93b\n",
            "  Stored in directory: /tmp/pip-ephem-wheel-cache-7jw0u2gc/wheels/40/86/14/ae5eebf191515af53ab86be6749af0ae2a71269b38f187557d\n",
            "Successfully built deepul\n",
            "Installing collected packages: deepul\n",
            "Successfully installed deepul-0.1.0\n"
          ]
        }
      ],
      "source": [
        "!if [ -d deepul ]; then rm -Rf deepul; fi \n",
        "!git clone https://github.com/johnberg1/deepul.git\n",
        "!unzip -qq deepul/homeworks/hw1/data/hw1_data.zip -d deepul/homeworks/hw1/data/\n",
        "!pip install ./deepul"
      ]
    },
    {
      "cell_type": "code",
      "execution_count": 2,
      "metadata": {
        "id": "ZHWosWrbpO5Y"
      },
      "outputs": [],
      "source": [
        "from deepul.hw1_helper import *"
      ]
    },
    {
      "cell_type": "markdown",
      "metadata": {
        "id": "7E4CMktzo100"
      },
      "source": [
        "# Question 1: 1D Data\n",
        "\n",
        "In this question, we will train simple generative models on discrete 1D data.\n",
        "\n",
        "Execute the cell below to visualize our datasets"
      ]
    },
    {
      "cell_type": "code",
      "execution_count": 3,
      "metadata": {
        "id": "ehhv2FZGo4_b",
        "colab": {
          "base_uri": "https://localhost:8080/",
          "height": 608
        },
        "outputId": "8ed9aa02-41ef-4a1d-9973-ea63a0c9c589"
      },
      "outputs": [
        {
          "output_type": "stream",
          "name": "stdout",
          "text": [
            "Dataset 1\n"
          ]
        },
        {
          "output_type": "display_data",
          "data": {
            "text/plain": [
              "<Figure size 432x288 with 2 Axes>"
            ],
            "image/png": "[encoded data removed]"
          },
          "metadata": {
            "needs_background": "light"
          }
        },
        {
          "output_type": "stream",
          "name": "stdout",
          "text": [
            "Dataset 2\n"
          ]
        },
        {
          "output_type": "display_data",
          "data": {
            "text/plain": [
              "<Figure size 432x288 with 2 Axes>"
            ],
            "image/png": "[encoded data removed]"
          },
          "metadata": {
            "needs_background": "light"
          }
        }
      ],
      "source": [
        "visualize_q1_data(dset_type=1)\n",
        "visualize_q1_data(dset_type=2)"
      ]
    },
    {
      "cell_type": "markdown",
      "metadata": {
        "id": "kSGTVznZqAR3"
      },
      "source": [
        "## Part (a) Fitting a Histogram (5 Points)\n",
        "\n",
        "Let $\\theta = (\\theta_0, \\dots, \\theta_{d-1}) \\in \\mathbb{R}^d$ and define the model $p_\\theta(x) = \\frac{e^{\\theta_x}}{\\sum_{x'}e^{\\theta_{x'}}}$\n",
        "\n",
        "Fit $p_\\theta$ with maximum likelihood via stochastic gradient descent on the training set, using $\\theta$ initialized to zero. Use your favorite version of stochastic gradient descent, and optimize your hyperparameters on a validation set of your choice.\n",
        "\n",
        "**You will provide these deliverables**\n",
        "\n",
        "\n",
        "1.   Over the course of training, record the average negative log-likelihood (nats / dim) of the training data (per minibatch) and test data (for your entire test set). Code is provided that automatically plots the training curves. \n",
        "2.   Report the final test set performance of your final model\n",
        "3. Plot the model probabilities in a bar graph with $\\{0,\\dots,d-1\\}$ on the x-axis and a real number in $[0,1]$ on the y-axis.\n",
        "\n",
        "\n"
      ]
    },
    {
      "cell_type": "markdown",
      "metadata": {
        "id": "Yg0Jmo1PSaE4"
      },
      "source": [
        "### Solution\n",
        "Fill out the functions below and return the necessary arguments. Feel free to create more cells if need be.\n",
        "\n",
        "Implement the Histogram class which extends nn.Module, you will need to create the parameters of the model and provide a loss given a batch of data. In the get_distribution function, you will return a valid probability distribution which sums up to 1. You may want to take a look at the documentations of torch.nn.functional.cross_entropy() and torch.nn.functional.softmax()\n",
        "\n",
        "After creating your model, you will train your model on the training set and evaluate on the test set. \n",
        "\n",
        "**Hint**: You may want to implement training and the evaluation procedures as functions which take a model and the dataloaders as an input and return the losses. This way, you can use these functions to train all the models you will create in this homework by simply calling them from inside the necessary functions such as 'q1_a' or 'q1_b'"
      ]
    },
    {
      "cell_type": "code",
      "execution_count": 4,
      "metadata": {
        "id": "wkZoFkhQeOf3"
      },
      "outputs": [],
      "source": [
        "import torch\n",
        "import torch.optim as optim\n",
        "        \n",
        "import torch.utils.data as data\n",
        "import torch.nn as nn\n",
        "import torch.nn.functional as F\n",
        "import numpy as np"
      ]
    },
    {
      "cell_type": "code",
      "execution_count": 5,
      "metadata": {
        "id": "GHcTXtpMizpr"
      },
      "outputs": [],
      "source": [
        "# Auxilary functions defined below -->\n",
        "\n",
        "def train_epoch(model, data_loader, optimizer):\n",
        "    # iterate through the batches of data in the data_loader\n",
        "    overall_loss = 0 # total loss\n",
        "    for i, train_data in enumerate(data_loader):\n",
        "        # calculate the training loss\n",
        "        cur_loss = model.loss(train_data) # current loss for the given batch\n",
        "        optimizer.zero_grad()\n",
        "        # calculate the partial derivatives\n",
        "        cur_loss.backward()\n",
        "        # update the parameters\n",
        "        optimizer.step()\n",
        "        # update the training loss\n",
        "        overall_loss = overall_loss + (cur_loss.item() * len(train_data)) # running sum of batch losses\n",
        "        # Note that cur_loss.item() returns the mean batch loss\n",
        "        \n",
        "        \n",
        "    # return the training_loss\n",
        "    return overall_loss / len(data_loader.dataset) # return the averaged loss\n",
        "\n",
        "\n",
        "def train(model, train_data_loader, test_data_loader, num_epochs, optimizer):# Fully initialized instance of an optimizer should be passed in\n",
        "    model.train() # put the model in the training mode\n",
        "    \n",
        "    train_losses = [] # holds the training losses\n",
        "    eval_losses = []\n",
        "    \n",
        "    # specifically calculate the eval/test loss before any training epoch\n",
        "    initial_eval_loss = evaluate(model, test_data_loader)\n",
        "    eval_losses.append(initial_eval_loss)\n",
        "    \n",
        "    # train for epochs\n",
        "    for i in range(num_epochs): # train for num_epochs\n",
        "        # perform training for one epoch\n",
        "        current_train_loss = train_epoch(model, train_data_loader, optimizer)\n",
        "        # append the training loss\n",
        "        train_losses.append(current_train_loss)\n",
        "        \n",
        "        # Calculate the evaluation loss\n",
        "        current_eval_loss = evaluate(model, test_data_loader)\n",
        "        # append the evaluation loss\n",
        "        eval_losses.append(current_eval_loss)\n",
        "        \n",
        "    return train_losses, eval_losses\n",
        "\n",
        "\n",
        "def evaluate(model, data_loader):\n",
        "    model.eval() # put the model in the evaluation mode\n",
        "    # calculate the evaluation/test loss\n",
        "    with torch.no_grad():\n",
        "        overall_loss = 0 # averaged total loss\n",
        "        for test_data in data_loader:\n",
        "            cur_loss = model.loss(test_data)\n",
        "            overall_loss = overall_loss + (cur_loss.item() * len(test_data)) # running sum of batch losses\n",
        "            # Note that cur_loss.item() returns the mean batch loss\n",
        "        #return the averaged loss\n",
        "        return overall_loss / len(data_loader.dataset)\n",
        "        \n",
        "    "
      ]
    },
    {
      "cell_type": "code",
      "execution_count": 6,
      "metadata": {
        "id": "6ycAfjmAfLQw"
      },
      "outputs": [],
      "source": [
        "class Histogram(nn.Module):\n",
        "    def __init__(self, d):\n",
        "        super().__init__()\n",
        "        \"\"\" YOUR CODE HERE \"\"\"\n",
        "        self.d = d\n",
        "        self.theta = torch.nn.Parameter(torch.zeros(d), requires_grad=True) # initialize theta with zeros (d-dimensional)\n",
        "\n",
        "\n",
        "    def loss(self, x):\n",
        "        \"\"\" YOUR CODE HERE \"\"\"\n",
        "        # x consists of x.shape[0] many samples so in order to match that we need to convert self.theta to a similar shape\n",
        "        # for batch processing of input and target theta values using the cross_entropy as loss function.\n",
        "        num_samples = x.shape[0] # number of samples in the given batch\n",
        "        theta_batch = self.theta.repeat(num_samples, 1) # repeat self.theta num_samples times in the dim=0\n",
        "        # calculate the loss\n",
        "        loss = torch.nn.functional.cross_entropy(theta_batch, x)\n",
        "        return loss\n",
        "\n",
        "    def get_distribution(self):\n",
        "        \"\"\" YOUR CODE HERE \"\"\"\n",
        "        # use the given softmax definition of p(x) to compute the distribution\n",
        "        # Note that \n",
        "        with torch.no_grad():\n",
        "            dist = torch.nn.functional.softmax(self.theta)\n",
        "            return dist.numpy()"
      ]
    },
    {
      "cell_type": "code",
      "execution_count": 7,
      "metadata": {
        "id": "BJNa6dHKpEQU"
      },
      "outputs": [],
      "source": [
        "def q1_a(train_data, test_data, d, dset_id):\n",
        "    \"\"\"\n",
        "    train_data: An (n_train,) numpy array of integers in {0, ..., d-1}\n",
        "    test_data: An (n_test,) numpy array of integers in {0, .., d-1}\n",
        "    d: The number of possible discrete values for random variable x\n",
        "    dset_id: An identifying number of which dataset is given (1 or 2). Most likely\n",
        "             used to set different hyperparameters for different datasets\n",
        "\n",
        "    Returns\n",
        "    - a (# of training iterations,) numpy array of train_losses evaluated every minibatch\n",
        "    - a (# of epochs + 1,) numpy array of test_losses evaluated once at initialization and after each epoch\n",
        "    - a numpy array of size (d,) of model probabilities\n",
        "    \"\"\"\n",
        "\n",
        "    \"\"\" YOUR CODE HERE \"\"\"\n",
        "    # Hyperparameters\n",
        "    lr = 2e-1\n",
        "    num_epochs = 20\n",
        "    batch_size = 64\n",
        "\n",
        "    # initialize the model\n",
        "    model = Histogram(d)\n",
        "\n",
        "    # initialize the optimizer to be used during training\n",
        "    optimizer = torch.optim.SGD(model.parameters(), lr=lr)\n",
        "\n",
        "    # prepare the DataLoaders from the given Datasets\n",
        "    train_data_loader = torch.utils.data.DataLoader(train_data, batch_size=batch_size, shuffle=True)\n",
        "    test_data_loader = torch.utils.data.DataLoader(test_data,batch_size=batch_size) # Note that test set does not require shuffling\n",
        "\n",
        "    # train the model \n",
        "    train_losses, eval_losses = train(model, train_data_loader, test_data_loader, num_epochs, optimizer)\n",
        "\n",
        "    return train_losses, eval_losses, model.get_distribution()"
      ]
    },
    {
      "cell_type": "markdown",
      "metadata": {
        "id": "SiGBSP-ESeIj"
      },
      "source": [
        "### Results\n",
        "\n",
        "Once you've implemented `q1_a`, execute the cells below to visualize and save your results\n",
        "\n"
      ]
    },
    {
      "cell_type": "code",
      "execution_count": 8,
      "metadata": {
        "colab": {
          "base_uri": "https://localhost:8080/",
          "height": 632
        },
        "id": "qjK_KReXsqYa",
        "outputId": "f0509058-46db-4bbc-c3bb-c6d28eedfc9d"
      },
      "outputs": [
        {
          "output_type": "stream",
          "name": "stderr",
          "text": [
            "/usr/local/lib/python3.7/dist-packages/ipykernel_launcher.py:24: UserWarning: Implicit dimension choice for softmax has been deprecated. Change the call to include dim=X as an argument.\n"
          ]
        },
        {
          "output_type": "stream",
          "name": "stdout",
          "text": [
            "Final Test Loss: 2.1244\n"
          ]
        },
        {
          "output_type": "display_data",
          "data": {
            "text/plain": [
              "<Figure size 432x288 with 1 Axes>"
            ],
            "image/png": "[encoded data removed]"
          },
          "metadata": {
            "needs_background": "light"
          }
        },
        {
          "output_type": "display_data",
          "data": {
            "text/plain": [
              "<Figure size 432x288 with 1 Axes>"
            ],
            "image/png": "[encoded data removed]"
          },
          "metadata": {
            "needs_background": "light"
          }
        }
      ],
      "source": [
        "q1_save_results(1, 'a', q1_a)"
      ]
    },
    {
      "cell_type": "code",
      "execution_count": 9,
      "metadata": {
        "id": "sJVOUEaaZXcA",
        "outputId": "c3f0ef4d-3d49-4b41-e3a7-24db801d6698",
        "colab": {
          "base_uri": "https://localhost:8080/",
          "height": 632
        }
      },
      "outputs": [
        {
          "output_type": "stream",
          "name": "stderr",
          "text": [
            "/usr/local/lib/python3.7/dist-packages/ipykernel_launcher.py:24: UserWarning: Implicit dimension choice for softmax has been deprecated. Change the call to include dim=X as an argument.\n"
          ]
        },
        {
          "output_type": "stream",
          "name": "stdout",
          "text": [
            "Final Test Loss: 4.3701\n"
          ]
        },
        {
          "output_type": "display_data",
          "data": {
            "text/plain": [
              "<Figure size 432x288 with 1 Axes>"
            ],
            "image/png": "[encoded data removed]"
          },
          "metadata": {
            "needs_background": "light"
          }
        },
        {
          "output_type": "display_data",
          "data": {
            "text/plain": [
              "<Figure size 432x288 with 1 Axes>"
            ],
            "image/png": "[encoded data removed]"
          },
          "metadata": {
            "needs_background": "light"
          }
        }
      ],
      "source": [
        "q1_save_results(2, 'a', q1_a)"
      ]
    },
    {
      "cell_type": "markdown",
      "metadata": {
        "id": "cnxld_vbh17F"
      },
      "source": [
        " ### <font color='red'> Inline Question 1 </font>\n",
        "\n",
        "*   What is the number of parameters of your Histogram model, for dataset 1 and dataset 2?\n",
        "    \n",
        "\n",
        "*   Supose that you are implementing a Histogram to model 28x28 binary images (each pixel has value of {0,1}). How many parameters would this model need to have? Is this a feasible way to model image distributions?\n",
        "    \n",
        "<font color=\"green\"> My Answers</font>\n",
        "\n",
        "<font color='green'> Ans1) </font>\n",
        "         Number of parameters of the Histogram model equals the value of self.d since our model is a Histogram. For dataset 1, the number of parameters of the Histogram model is 20. For dataset 2, the number of parameters of the Histogram model is 100.\n",
        "\n",
        "\n",
        "<font color='green'> Ans2) </font>\n",
        "    It would need to have 28 * 28 * 2 = 1568 parameters. Thi is not a feasible way to model image distribution since using a histogram model won't generalize well and it won't be able to make sense of the spatial information present in the image.\n",
        "    \n"
      ]
    },
    {
      "cell_type": "markdown",
      "metadata": {
        "id": "DiyFXlj0rfcr"
      },
      "source": [
        "## Part (b) Fitting Discretized Mixture of Logistics (5 Points)\n",
        "\n",
        "Let us model $p_\\theta(x)$ as a **discretized** mixture of 6 logistics such that $p_\\theta(x) = \\sum_{i=1}^6 \\pi_i[\\sigma((x+0.5 - \\mu_i)/s_i) - \\sigma((x-0.5-\\mu_i)/s_i)]$\n",
        "\n",
        "For the edge case of when $x = 0$, we replace $x-0.5$ by $-\\infty$, and for $x = d-1$, we replace $x+0.5$ by $\\infty$.\n",
        "\n",
        "You may find the [PixelCNN++](https://arxiv.org/abs/1701.05517) helpful for more information on discretized mixture of logistics.\n",
        "\n",
        "**Provide the same set of corresponding deliverables as part (a)**"
      ]
    },
    {
      "cell_type": "markdown",
      "metadata": {
        "id": "f4dnQIg_TDx6"
      },
      "source": [
        "### Solution\n",
        "Fill out the functions below and return the necessary arguments. Feel free to create more cells if need be. \n",
        "\n",
        "Implement the MixtureOfLogistics class which extends nn.Module. Similar to the first part, you will create the parameters, implement the forward pass, loss functions and provide a function which returns a valid probability distribution.\n",
        "\n",
        "Possible functions that might help: torch.sigmoid(), torch.clamp(), F.log_softmax()"
      ]
    },
    {
      "cell_type": "code",
      "execution_count": 10,
      "metadata": {
        "id": "K3hX-sb-kHB7"
      },
      "outputs": [],
      "source": [
        "class MixtureOfLogistics(nn.Module):\n",
        "    def __init__(self, d, n_mix=6):\n",
        "      super().__init__()\n",
        "      \"\"\" YOUR CODE HERE \"\"\"\n",
        "      self.d = d\n",
        "      self.n_mix = n_mix\n",
        "      self.pi = torch.nn.Parameter(torch.zeros(self.n_mix), requires_grad = True)\n",
        "      self.mean = torch.nn.Parameter(torch.arange(n_mix).float() / (n_mix - 1) * d, requires_grad = True) # NOT SURE !!!\n",
        "      # we are using log_scale which we'll exponentiate later for stability reasons\n",
        "      self.log_scale = torch.nn.Parameter(torch.randn(self.n_mix), requires_grad = True)\n",
        "\n",
        "    def forward(self, x):\n",
        "        \"\"\" YOUR CODE HERE \"\"\"\n",
        "        # Note that x is [batch_size x 1] dimensional, and every x can take a single value btw [0, (d-1)]\n",
        "        x = x.float().unsqueeze(1).repeat(1, self.n_mix) # [batch_size x n_mix] \n",
        "        mean= self.mean.unsqueeze(0) # [1 x n_mix]\n",
        "        log_scale =  self.log_scale.unsqueeze(0) # [1 x n_mix]\n",
        "\n",
        "        inv_scales = torch.exp(-log_scale) # = 1/s\n",
        "\n",
        "        # make use of vectorization below for (x - mean) --> [batch_size x n_mix]\n",
        "        plus = inv_scales * ((x - mean) + 0.5) # = (x + 0.5 - mean) / s --> input to the sigmoid for rigth envelope (CDF value)\n",
        "        min = inv_scales * ((x - mean) - 0.5) # = (x - 0.5 - mean) / s --> input to the sigmoid for left envelope (CDF value)\n",
        "        # Note that sigmoid serves as a CDF (Cumulative Distribution Function)\n",
        "\n",
        "        cdf_plus = torch.sigmoid(plus) # right of envelope, sigmoid(x+05) --> [batch_size x n_mix]\n",
        "        cdf_min = torch.sigmoid(min) # # left of envelope, sigmoid(x-05) --> [batch_size x n_mix]\n",
        "\n",
        "        cdf_delta = torch.clamp(cdf_plus - cdf_min, min=1e-15) # PDF value of X approximately derived from CDF. \n",
        "        # Note that we avoid Arithmetic Exceptions due to 0 by using torch.clamp\n",
        "        log_cdf_delta = torch.log(cdf_delta)  # log likelihood\n",
        "\n",
        "\n",
        "        # Handle the edge cases\n",
        "        # For x = 0, we replace x - 0.5 by -inf. Therefore PDF value for x = 0 should equal to CDF value of x + 0.5\n",
        "        pdf_zero = torch.log(torch.clamp(torch.sigmoid(inv_scales * ((0 + 0.5) - mean)),\n",
        "                                                          min=1e-15)) \n",
        "        # For x = (d - 1) we replace x + 0.5 by +inf. Therefore PDF value for x = (d-1) should equal to (1 - CDF(x - 0.5))\n",
        "        pdf_d = torch.log(torch.clamp(1 - torch.sigmoid(inv_scales * ((self.d - 1) -0.5 - mean)),\n",
        "                                            min=1e-15)) # same logic applied to x = 0 before but this time done for x = d-1\n",
        "\n",
        "        # Apply the edge case handling to our log likelihood (log_cdf_delta)\n",
        "        x_log_probs = torch.where(x < 0.001, pdf_zero,\n",
        "                                  torch.where(x > (self.d - 1) - 1e-3,\n",
        "                                              pdf_d, log_cdf_delta))\n",
        "        \n",
        "        pi_log_probs = F.log_softmax(self.pi, dim=0).unsqueeze(0) # --> [1 x n_mix] with vectorization it'll become [batch_size, n_mix]\n",
        "        # calculate: pi * (sigmoid(x+0.5) - sigmoid(x-0.5)) for all dim_n\n",
        "        log_probs = x_log_probs + pi_log_probs # We sum due to properties of logarithm. Actually we're multiplying pi values with corresponding  PDF values\n",
        "        return torch.logsumexp(log_probs, dim=1) \n",
        "\n",
        "\n",
        "\n",
        "    def loss(self, x):\n",
        "        \"\"\" YOUR CODE HERE \"\"\"\n",
        "        # Negative Log Likelihood Loss\n",
        "        loss = -1 * torch.mean(self.forward(x)) \n",
        "        # Note that self.forward returns negative log likelihoods so we just average to have the loss\n",
        "        # because, we want the probability of every x to be as high as possible\n",
        "        return loss\n",
        "\n",
        "    def get_distribution(self):\n",
        "        \"\"\" YOUR CODE HERE \"\"\"\n",
        "        with torch.no_grad():\n",
        "          possible_x_values = torch.arange(self.d).float() # x values in range [0, d-1]\n",
        "          logarithm_of_pdf_x_vals = self.forward(possible_x_values) # self.forward returns log likelihood values so we need to exponentiate to get PDF values\n",
        "          pdf_x_vals = torch.exp(logarithm_of_pdf_x_vals)\n",
        "          return pdf_x_vals.numpy()\n",
        "\n"
      ]
    },
    {
      "cell_type": "code",
      "execution_count": 11,
      "metadata": {
        "id": "uAvMQDJJrjNo"
      },
      "outputs": [],
      "source": [
        "def q1_b(train_data, test_data, d, dset_id):\n",
        "    \"\"\"\n",
        "    train_data: An (n_train,) numpy array of integers in {0, ..., d-1}\n",
        "    test_data: An (n_test,) numpy array of integers in {0, .., d-1}\n",
        "    d: The number of possible discrete values for random variable x\n",
        "    dset_id: An identifying number of which dataset is given (1 or 2). Most likely\n",
        "           used to set different hyperparameters for different datasets\n",
        "\n",
        "    Returns\n",
        "    - a (# of training iterations,) numpy array of train_losses evaluated every minibatch\n",
        "    - a (# of epochs + 1,) numpy array of test_losses evaluated once at initialization and after each epoch\n",
        "    - a numpy array of size (d,) of model probabilities\n",
        "    \"\"\"\n",
        "\n",
        "    \"\"\" YOUR CODE HERE \"\"\"\n",
        "    # Hyperparameters\n",
        "    lr = 2e-1\n",
        "    num_epochs = 50\n",
        "    batch_size = 64\n",
        "\n",
        "    # initialize the model\n",
        "    model = MixtureOfLogistics(d, 6)\n",
        "    # initialize the optimizer to be used during training\n",
        "    optimizer = torch.optim.SGD(model.parameters(), lr=lr)\n",
        "\n",
        "    # prepare the DataLoaders from the given Datasets\n",
        "    train_data_loader = torch.utils.data.DataLoader(train_data, batch_size=batch_size, shuffle=True)\n",
        "    test_data_loader = torch.utils.data.DataLoader(test_data,batch_size=batch_size) # Note that test set does not require shuffling\n",
        "\n",
        "    # train the model \n",
        "    train_losses, eval_losses = train(model, train_data_loader, test_data_loader, num_epochs, optimizer)\n",
        "\n",
        "    return train_losses, eval_losses, model.get_distribution()"
      ]
    },
    {
      "cell_type": "markdown",
      "metadata": {
        "id": "VwZyhlewTHH4"
      },
      "source": [
        "### Results\n",
        "\n",
        "Once you've implemented `q1_b`, execute the cells below to visualize and save your results\n",
        "\n"
      ]
    },
    {
      "cell_type": "code",
      "execution_count": 12,
      "metadata": {
        "colab": {
          "base_uri": "https://localhost:8080/",
          "height": 594
        },
        "id": "wnnQORaG6Ouf",
        "outputId": "3fe816ba-4038-4a60-8ce6-de3f43762902"
      },
      "outputs": [
        {
          "output_type": "stream",
          "name": "stdout",
          "text": [
            "Final Test Loss: 2.0638\n"
          ]
        },
        {
          "output_type": "display_data",
          "data": {
            "text/plain": [
              "<Figure size 432x288 with 1 Axes>"
            ],
            "image/png": "[encoded data removed]"
          },
          "metadata": {
            "needs_background": "light"
          }
        },
        {
          "output_type": "display_data",
          "data": {
            "text/plain": [
              "<Figure size 432x288 with 1 Axes>"
            ],
            "image/png": "[encoded data removed]"
          },
          "metadata": {
            "needs_background": "light"
          }
        }
      ],
      "source": [
        "q1_save_results(1, 'b', q1_b)"
      ]
    },
    {
      "cell_type": "code",
      "execution_count": 13,
      "metadata": {
        "id": "1jLGoDa46RM6",
        "colab": {
          "base_uri": "https://localhost:8080/",
          "height": 594
        },
        "outputId": "0abd31e0-73b5-48cc-fd68-d6cbb6e33df7"
      },
      "outputs": [
        {
          "output_type": "stream",
          "name": "stdout",
          "text": [
            "Final Test Loss: 4.3642\n"
          ]
        },
        {
          "output_type": "display_data",
          "data": {
            "text/plain": [
              "<Figure size 432x288 with 1 Axes>"
            ],
            "image/png": "[encoded data removed]"
          },
          "metadata": {
            "needs_background": "light"
          }
        },
        {
          "output_type": "display_data",
          "data": {
            "text/plain": [
              "<Figure size 432x288 with 1 Axes>"
            ],
            "image/png": "[encoded data removed]"
          },
          "metadata": {
            "needs_background": "light"
          }
        }
      ],
      "source": [
        "q1_save_results(2, 'b', q1_b)"
      ]
    },
    {
      "cell_type": "markdown",
      "metadata": {
        "id": "drZR4G6hj3Ki"
      },
      "source": [
        " ### <font color='red'> Inline Question 2 </font>\n",
        "\n",
        "*   Please run the experiments **on dataset 2** with `n_mix = 2` and `n_mix = 4` again and observe the changes in the results. Are your results as good as the results with `n_mix = 6`? Why do you think this happens? Please explain briefly. (Note that for the report, **you need to include the results for** `n_mix = 6` **only**, the other experiments are just for you to observe).\n",
        "\n",
        "<font color='green'> My Answers </font>\n",
        "* No, with `n_mix = {2,4}` the results are not as good as the results with `n_mix = 6`. I think this happens because, as the `n_mix` value decreases the expressive capability (its ability to model complex distributions) decreases too. For example, in the extreme case of `n_mix = 1` the Mixture of Logistics model reduces to a single sigmoid function. With increasing `n_mix > 1`, we are able to train model to learn multiple distributions which can be switched on/off to yield results from a corresponding distribution which ideally expresses the given input better."
      ]
    },
    {
      "cell_type": "markdown",
      "metadata": {
        "id": "yiIU3aRxZ685"
      },
      "source": [
        "# Question 2 PixelCNNs\n",
        "\n",
        "Now, you will train more powerful PixelCNN model and its variations on MNIST. In the first part, you will implement a PixelCNN that is trained with the default Cross Entropy Loss. In the second part, you will implement the alternative loss proposed in PixelCNN++, mixture of logistics. In the final part, you will implement the gated version, GatedPixelCNN."
      ]
    },
    {
      "cell_type": "markdown",
      "metadata": {
        "id": "9nj4gFyXaI2-"
      },
      "source": [
        "## Part (a) PixelCNN on MNIST (10 Points)"
      ]
    },
    {
      "cell_type": "code",
      "execution_count": 14,
      "metadata": {
        "id": "0jsCqLJwezLq"
      },
      "outputs": [],
      "source": [
        "import torch\n",
        "import torch.nn as nn\n",
        "import torch.nn.functional as F\n",
        "from torchvision import datasets, transforms\n",
        "import os\n",
        "import sys\n",
        "from torch import optim\n",
        "from torch.utils import data\n",
        "import torchvision\n",
        "import numpy as np\n",
        "import matplotlib.pyplot as plt\n",
        "%matplotlib inline"
      ]
    },
    {
      "cell_type": "markdown",
      "metadata": {
        "id": "MDL-G8yMeK9z"
      },
      "source": [
        "You will train your model on MNIST. Let's download the dataset and visualize an example:"
      ]
    },
    {
      "cell_type": "code",
      "execution_count": 15,
      "metadata": {
        "colab": {
          "base_uri": "https://localhost:8080/",
          "height": 794,
          "referenced_widgets": [
            "4818e5769f42404395bd4ac452e04529",
            "bf623428516540d4957372356457a84e",
            "fc3d878f590a43cf946191b2cc25588c",
            "1f389c9decec409aa00698e5651b3b02",
            "d07b6a33b6bd4a91ba6b5018c744780a",
            "2d44c391a4574f81bcd0e281bb447613",
            "c6225c6d519e490e981e0bad41fd7f3c",
            "5052bbd0741a4fe789e4d69616b8d44e",
            "512da79608d44daca4b77d8af09e6a3e",
            "d423bac51f49420ca772e226b3dd7539",
            "1a4432ab9d9a4a78959029c23104148d",
            "1c85fc71e2554cd294aca16be5abb038",
            "932e6d501a4a4b47826fd4846041ee85",
            "9fac960a95904353928793394f7e7391",
            "6d2e8cb9420445a69c50d651b4adab41",
            "2fbf92a5591942e2b4d7e941267e4139",
            "c9d5d3faa6c04fadafa3243f53383b65",
            "85050672c175414188f740079fe476de",
            "9a342f075db7422a910a2417a892c9d9",
            "633b643912514f1fa1d6e5e762f19a87",
            "bd7eb9a582fe41b2b784366e975fe96d",
            "8a97e05a473d496d94383f91eef63ab6",
            "a223dca7c6344c7c9b53a5f9e94f0302",
            "bb539b64738945a8ab5690ef4a070fef",
            "869e181d71f046279f749f413178eac0",
            "50678fe4d65c4cc5895ea3147ef478f1",
            "a7889d1e47ef42049f54313ce8b980ee",
            "fa7a9080984b473895fa175adeb0cffc",
            "ca94873974724febbe0133f02389e874",
            "e6a392cebb4f48dda5c30d01dca17698",
            "7c2f8ab5ee2943849b2b62c46c05e9fa",
            "ad359dabbe8d47139f9c5025487e5841",
            "f6ece6f1c438435ab74f701dd3c7cc14",
            "055369a72d3f43e98563090ca10d0587",
            "1523fa98fd4843a5968d3f52e8d06582",
            "9a0d2a3e016e4d7b940dc149af91da50",
            "a92ef48b68014d679c60ccbdf7228ffd",
            "a6eee9e7b43d41d7beeaed4446c81fd2",
            "71c057f323964b14ab9c35db2ff285a5",
            "81b8109c24ba431ba6e85eb2138881ee",
            "a0f6ce6e03934e6995df2b47e908ec3d",
            "a741a0ea04a14b2d893cecaf41d705b7",
            "a1b11a37d542441d91103dff262e3b6d",
            "70602f6081f54599b22c1809b65b95a1"
          ]
        },
        "id": "1EXaGq10eTG4",
        "outputId": "a0f7fc86-3390-4e9c-c722-7c549628f973"
      },
      "outputs": [
        {
          "output_type": "stream",
          "name": "stdout",
          "text": [
            "Downloading http://yann.lecun.com/exdb/mnist/train-images-idx3-ubyte.gz\n",
            "Downloading http://yann.lecun.com/exdb/mnist/train-images-idx3-ubyte.gz to /content/data/MNIST/raw/train-images-idx3-ubyte.gz\n"
          ]
        },
        {
          "output_type": "display_data",
          "data": {
            "text/plain": [
              "  0%|          | 0/9912422 [00:00<?, ?it/s]"
            ],
            "application/vnd.jupyter.widget-view+json": {
              "version_major": 2,
              "version_minor": 0,
              "model_id": "4818e5769f42404395bd4ac452e04529"
            }
          },
          "metadata": {}
        },
        {
          "output_type": "stream",
          "name": "stdout",
          "text": [
            "Extracting /content/data/MNIST/raw/train-images-idx3-ubyte.gz to /content/data/MNIST/raw\n",
            "\n",
            "Downloading http://yann.lecun.com/exdb/mnist/train-labels-idx1-ubyte.gz\n",
            "Downloading http://yann.lecun.com/exdb/mnist/train-labels-idx1-ubyte.gz to /content/data/MNIST/raw/train-labels-idx1-ubyte.gz\n"
          ]
        },
        {
          "output_type": "display_data",
          "data": {
            "text/plain": [
              "  0%|          | 0/28881 [00:00<?, ?it/s]"
            ],
            "application/vnd.jupyter.widget-view+json": {
              "version_major": 2,
              "version_minor": 0,
              "model_id": "1c85fc71e2554cd294aca16be5abb038"
            }
          },
          "metadata": {}
        },
        {
          "output_type": "stream",
          "name": "stdout",
          "text": [
            "Extracting /content/data/MNIST/raw/train-labels-idx1-ubyte.gz to /content/data/MNIST/raw\n",
            "\n",
            "Downloading http://yann.lecun.com/exdb/mnist/t10k-images-idx3-ubyte.gz\n",
            "Downloading http://yann.lecun.com/exdb/mnist/t10k-images-idx3-ubyte.gz to /content/data/MNIST/raw/t10k-images-idx3-ubyte.gz\n"
          ]
        },
        {
          "output_type": "display_data",
          "data": {
            "text/plain": [
              "  0%|          | 0/1648877 [00:00<?, ?it/s]"
            ],
            "application/vnd.jupyter.widget-view+json": {
              "version_major": 2,
              "version_minor": 0,
              "model_id": "a223dca7c6344c7c9b53a5f9e94f0302"
            }
          },
          "metadata": {}
        },
        {
          "output_type": "stream",
          "name": "stdout",
          "text": [
            "Extracting /content/data/MNIST/raw/t10k-images-idx3-ubyte.gz to /content/data/MNIST/raw\n",
            "\n",
            "Downloading http://yann.lecun.com/exdb/mnist/t10k-labels-idx1-ubyte.gz\n",
            "Downloading http://yann.lecun.com/exdb/mnist/t10k-labels-idx1-ubyte.gz to /content/data/MNIST/raw/t10k-labels-idx1-ubyte.gz\n"
          ]
        },
        {
          "output_type": "display_data",
          "data": {
            "text/plain": [
              "  0%|          | 0/4542 [00:00<?, ?it/s]"
            ],
            "application/vnd.jupyter.widget-view+json": {
              "version_major": 2,
              "version_minor": 0,
              "model_id": "055369a72d3f43e98563090ca10d0587"
            }
          },
          "metadata": {}
        },
        {
          "output_type": "stream",
          "name": "stdout",
          "text": [
            "Extracting /content/data/MNIST/raw/t10k-labels-idx1-ubyte.gz to /content/data/MNIST/raw\n",
            "\n",
            "Dataset MNIST\n",
            "    Number of datapoints: 60000\n",
            "    Root location: /content/data\n",
            "    Split: Train\n",
            "    StandardTransform\n",
            "Transform: ToTensor()\n"
          ]
        },
        {
          "output_type": "display_data",
          "data": {
            "text/plain": [
              "<Figure size 432x288 with 1 Axes>"
            ],
            "image/png": "[encoded data removed]"
          },
          "metadata": {
            "needs_background": "light"
          }
        }
      ],
      "source": [
        "dataset_path = '/content/data'\n",
        "transform = transforms.ToTensor()\n",
        "train_data = datasets.MNIST(root=dataset_path,\n",
        "                            train=True,\n",
        "                            download=True,\n",
        "                            transform=transform)\n",
        "test_data = datasets.MNIST(root=dataset_path,\n",
        "                            train=False,\n",
        "                            download=True,\n",
        "                            transform=transform)\n",
        "print(train_data)\n",
        "\n",
        "plt.imshow(train_data.data[447], cmap='gray')\n",
        "plt.title('%i' % train_data.targets[447])\n",
        "plt.axis('off')\n",
        "plt.show()"
      ]
    },
    {
      "cell_type": "code",
      "execution_count": 16,
      "metadata": {
        "colab": {
          "base_uri": "https://localhost:8080/"
        },
        "id": "b-75Em1Hizp4",
        "outputId": "fe0c6a7b-c982-4219-be6c-2d27db157c2d"
      },
      "outputs": [
        {
          "output_type": "stream",
          "name": "stdout",
          "text": [
            "train_data.data.shape =  torch.Size([60000, 28, 28])\n",
            "train_data.data.max() =  tensor(255, dtype=torch.uint8)\n"
          ]
        }
      ],
      "source": [
        "# Examine the shape of the training data\n",
        "print(\"train_data.data.shape = \", str(train_data.data.shape))\n",
        "print(\"train_data.data.max() = \", train_data.data.max())"
      ]
    },
    {
      "cell_type": "markdown",
      "metadata": {
        "id": "zjKI3H6bxQE6"
      },
      "source": [
        "### Solution"
      ]
    },
    {
      "cell_type": "markdown",
      "metadata": {
        "id": "9iYrnz9ZaR1e"
      },
      "source": [
        "In this part, you will implement a very simple PixelCNN architecture on greyscale handwritten digits. This model will be trained with the default Cross Entropy Loss.\n",
        "\n",
        "As you have seen in the lecture, PixelCNN utilizes masked convolutions to ensure the autoregressive property is satisfied. First start by implementing a masked convolutional layer. Remember that there are two different types of layers, type A and type B, depending on the masking you are using.\n",
        "\n",
        "A class header is provided to you in the cell below, which extends the `nn.Conv2d` class. You may wish to implement your layer that extends the `nn.Module` class instead."
      ]
    },
    {
      "cell_type": "code",
      "execution_count": 17,
      "metadata": {
        "id": "hSnqP__sbjXF"
      },
      "outputs": [],
      "source": [
        "class MaskedConv2d(nn.Conv2d):\n",
        "    def __init__(self, mask_type, *args, **kwargs):\n",
        "        \"\"\" YOUR CODE HERE \"\"\"\n",
        "        super().__init__(*args, **kwargs) # pass additional arguments directly to the Conv2d's constructor\n",
        "        assert mask_type in {'A', 'B'}\n",
        "\n",
        "        # Conv2d accepts kernel_size as tuple or a single int so be sure to handle it for our mask too\n",
        "        if type(self.kernel_size) == tuple:\n",
        "            kernel_size = self.kernel_size[0]\n",
        "\n",
        "        mask = torch.zeros((self.out_channels, self.in_channels, kernel_size, kernel_size)) # initialize the mask with zeros\n",
        "        center = (kernel_size // 2) # index of the center's left weight of the kernel\n",
        "        if mask_type == 'A':\n",
        "            mask[:, :, :center, :] = 1\n",
        "            mask[:, :, center, :center] = 1\n",
        "        else:\n",
        "            mask[:, :, :center, :] = 1\n",
        "            mask[:, :, center, :(center + 1)] = 1 # center pixel should also be 1 for 'type B'\n",
        "\n",
        "        # Note that mask is defined using register_buffer, and not nn.Parameter because it won't be updated during training\n",
        "        self.register_buffer('mask', mask)\n",
        "\n",
        "\n",
        "    def forward(self, x):\n",
        "        \"\"\" YOUR CODE HERE \"\"\"\n",
        "        pred = F.conv2d(input=x, weight=self.weight * self.mask, bias=self.bias, stride=self.stride, padding=self.padding)\n",
        "        return pred"
      ]
    },
    {
      "cell_type": "code",
      "execution_count": 18,
      "metadata": {
        "colab": {
          "base_uri": "https://localhost:8080/"
        },
        "id": "B7rQfFZnizp6",
        "outputId": "ad1d1702-7dd4-4f24-9c06-bf0743d66ede"
      },
      "outputs": [
        {
          "output_type": "stream",
          "name": "stdout",
          "text": [
            "torch.Size([2, 1, 3, 3])\n",
            "torch.Size([2, 1, 3, 3])\n",
            "torch.Size([2])\n",
            "tensor([[[[1., 1., 1.],\n",
            "          [1., 0., 0.],\n",
            "          [0., 0., 0.]]],\n",
            "\n",
            "\n",
            "        [[[1., 1., 1.],\n",
            "          [1., 0., 0.],\n",
            "          [0., 0., 0.]]]])\n"
          ]
        }
      ],
      "source": [
        "# Check out mask and Conv2d filter sizes\n",
        "test = MaskedConv2d('A', in_channels=1, out_channels=2, kernel_size=3)\n",
        "print(test.weight.shape)\n",
        "print(test.mask.shape)\n",
        "print(test.bias.shape)\n",
        "print(test.mask)"
      ]
    },
    {
      "cell_type": "markdown",
      "metadata": {
        "id": "aFBAigvBcMP9"
      },
      "source": [
        "Now that you have implemented a masked convolutional layer, you can use this layer inside your PixelCNN model. Again, a class header is provided to you. Here is a pseudocode for the reference implementation:\n",
        "\n",
        "\n",
        "\n",
        "```\n",
        "class PixelCNN:\n",
        "  MaskedConv(mask_type='A', in_channels = 1, out_channels = 64, kernel_size = 7, stride = 1, padding = 3)\n",
        "  BatchNorm(num_features=64)\n",
        "  ReLU()\n",
        "\n",
        "  for _ in range(3):\n",
        "    MaskedConv(mask_type='B', in_channels = 64, out_channels = 64, kernel_size = 7, stride = 1, padding = 3)\n",
        "    BatchNorm(num_features=64)\n",
        "    ReLU()\n",
        "\n",
        "  MaskedConv(mask_type='B', in_channels = 64, out_channels = 64, kernel_size = 1)\n",
        "  BatchNorm(num_features=64)\n",
        "  ReLU()\n",
        "  MaskedConv(mask_type='B', in_channels = 64, out_channels = 256, kernel_size = 1)\n",
        "\n",
        "```\n",
        "\n"
      ]
    },
    {
      "cell_type": "code",
      "execution_count": 19,
      "metadata": {
        "id": "8YkxcukLckHT"
      },
      "outputs": [],
      "source": [
        "class PixelCNN(nn.Module):\n",
        "    def __init__(self, num_layers = 5, num_channels = 64, kernel_size = 7):\n",
        "        \"\"\" YOUR CODE HERE \"\"\"\n",
        "        super().__init__()\n",
        "        self.layers = []\n",
        "        self.layers.extend([MaskedConv2d(mask_type='A', in_channels=1, out_channels=num_channels, kernel_size=kernel_size, \n",
        "                    stride=1, padding=3),\n",
        "                            torch.nn.BatchNorm2d(num_features=64),\n",
        "                            torch.nn.ReLU()])\n",
        "\n",
        "        for _ in range(num_layers):\n",
        "            self.layers.extend([MaskedConv2d(mask_type='B', in_channels=num_channels, out_channels=num_channels, kernel_size=kernel_size, \n",
        "                    stride=1, padding=3),\n",
        "                            torch.nn.BatchNorm2d(num_features=64),\n",
        "                            torch.nn.ReLU()])\n",
        "        \n",
        "        self.layers.extend([MaskedConv2d(mask_type='B', in_channels=num_channels, out_channels=num_channels, kernel_size=1),\n",
        "                            torch.nn.BatchNorm2d(num_features=64),\n",
        "                            torch.nn.ReLU(),\n",
        "                           MaskedConv2d(mask_type='B', in_channels=num_channels, out_channels=256, kernel_size=1)])\n",
        "        \n",
        "        self.model = torch.nn.Sequential(*self.layers)\n",
        "\n",
        "\n",
        "    def forward(self, x):\n",
        "        \"\"\" YOUR CODE HERE \"\"\"\n",
        "        pred = self.model(x)\n",
        "        return pred\n",
        "\n",
        "    def loss(self, test_data):\n",
        "        \"\"\" YOUR CODE HERE \"\"\"\n",
        "        # calculate the loss\n",
        "        pred = self.model(test_data)   # --> [batch_size, 256, H, W]\n",
        "        loss = torch.nn.functional.cross_entropy(pred, (test_data[:,0,:,:]*255).long())\n",
        "        return loss\n",
        "        "
      ]
    },
    {
      "cell_type": "markdown",
      "metadata": {
        "id": "lexYZvOIgWgs"
      },
      "source": [
        "Now you are ready to train your model. Fill in the function `q2_a` below to train the model and return the correct deliverables. In this function, you will initialize your model and train this model. The reference implementation uses `batch_size = 128`, `num_epocs = 5`, `optimizer = Adam`, `lr = 1e-3` as hyperparameters. Use Cross Entropy Loss to train this model, please look at the documentation of this loss. It should take around 16 minutes to train for 5 epochs\n",
        "\n",
        "**You will provide the following deliverables:**\n",
        "\n",
        "*   **A list of training losses evaluated at every minibatch. (Create an empty list before training, append the loss after every minibatch and return the final list).**\n",
        "*   **A list of test losses evaluated once at initialization and after each epoch. (Create an empty list. Evaluate on the test set before training and append it to this list. After every epoch, evaluate on the test set again and append to the list. Return the final list).**\n",
        "*   **25 samples drawn from your trained model. (The sampling function is already provided to you. Just call this function after training and return the samples).**\n",
        "\n",
        "Here is a pseudocode for the reference implementation. Once again, you may wish to implement a generic training function (`train_model`) that takes your model and dataloaders and returns the training losses:\n",
        "\n",
        "\n",
        "```\n",
        "function q2a():\n",
        "  batch_size = 128\n",
        "  num_epochs = 5\n",
        "  train_loader = data.DataLoader(train_data, ...)\n",
        "  test_loader = data.DataLoader(test_data, ...)\n",
        "  device = 'cuda:0' or 'cpu'\n",
        "  model = PixelCNN().to(device)\n",
        "  train_losses, test_losses = train_model(model, train_loader, test_loader, ...)\n",
        "  \n",
        "  samples = sample(model)\n",
        "  return train_losses, test_losses, samples\n",
        "\n",
        "```\n",
        "\n"
      ]
    },
    {
      "cell_type": "code",
      "execution_count": 20,
      "metadata": {
        "id": "_a8yc820izp8"
      },
      "outputs": [],
      "source": [
        "def train(model, train_data_loader, test_data_loader, num_epochs, optimizer):\n",
        "    train_losses = []\n",
        "    val_losses = []\n",
        "    # initial test_loss\n",
        "    test_losses = evaluate(model, test_data_loader)\n",
        "    val_losses.append(test_losses)\n",
        "    \n",
        "    # training/test losses\n",
        "    for i in range(num_epochs):\n",
        "        cur_train_loss, cur_val_loss = train_one_epoch(model, train_data_loader, test_data_loader, optimizer)\n",
        "        train_losses.extend(cur_train_loss)\n",
        "        val_losses.append(cur_val_loss)\n",
        "        print(\"Epoch: \", i, \",\\t training_loss: \", np.mean(cur_train_loss, axis=-1), \",\\t validation loss:\", cur_val_loss)\n",
        "    return train_losses, val_losses\n",
        "\n",
        "\n",
        "def train_one_epoch(model, train_data_loader, test_data_loader, optimizer):\n",
        "    device = 'cpu'\n",
        "    if torch.cuda.is_available():\n",
        "        device = 'cuda'\n",
        "            \n",
        "    \n",
        "    model.train()\n",
        "    train_losses = []\n",
        "    for x, y in train_data_loader:\n",
        "        x = x.to(device)\n",
        "        y = y.to(device)\n",
        "        \n",
        "        # train\n",
        "        cur_loss = model.loss(x)\n",
        "        optimizer.zero_grad()\n",
        "        cur_loss.backward()\n",
        "        optimizer.step()\n",
        "        \n",
        "        train_losses.append(cur_loss.item())\n",
        "        \n",
        "    # test\n",
        "    test_losses = evaluate(model, test_data_loader)\n",
        "    \n",
        "    return train_losses, test_losses\n",
        "\n",
        "def evaluate(model, test_data_loader):\n",
        "    device = 'cpu'\n",
        "    if torch.cuda.is_available():\n",
        "        device = 'cuda'\n",
        "  \n",
        "    test_losses = 0\n",
        "    model.eval()\n",
        "    with torch.no_grad():\n",
        "        for x, y in test_data_loader:\n",
        "            x = x.to(device)\n",
        "            y = y.to(device)\n",
        "            \n",
        "            cur_loss = model.loss(x)\n",
        "            test_losses += (cur_loss.item() * len(x))\n",
        "        test_losses /= len(test_data_loader.dataset)\n",
        "        return test_losses"
      ]
    },
    {
      "cell_type": "code",
      "execution_count": 21,
      "metadata": {
        "id": "Pw_lqcTRiLeC"
      },
      "outputs": [],
      "source": [
        "# Execute this cell, nothing to implement here\n",
        "def sample(model):\n",
        "    \"\"\"\n",
        "    model: PixelCNN model trained on MNIST\n",
        "\n",
        "    Returns\n",
        "    - sample: A tensor containing the samples generated by the model\n",
        "    \"\"\"\n",
        "\n",
        "    no_images = 25\n",
        "    images_channels = 1\n",
        "    images_size = 28\n",
        "    sample = torch.Tensor(no_images, images_channels, images_size, images_size).cuda()\n",
        "    sample.fill_(0)\n",
        "\n",
        "    for i in range(images_size):\n",
        "        for j in range(images_size):\n",
        "            out = model(sample)\n",
        "            probs = F.softmax(out[:,:,i,j], dim=-1).data\n",
        "            sample[:,:,i,j] = torch.multinomial(probs, 1).float() / 255.0\n",
        "    return sample.cpu()"
      ]
    },
    {
      "cell_type": "code",
      "execution_count": 22,
      "metadata": {
        "id": "Jdg59OElghMf"
      },
      "outputs": [],
      "source": [
        "def q2_a(train_data, test_data):\n",
        "    \"\"\"\n",
        "    train_data: A (n_train, H, W) numpy array of greyscale MNIST images\n",
        "    test_data: A (n_test, H, W) numpy array of greyscale MNIST images\n",
        "\n",
        "    Returns\n",
        "    - a (# of training iterations,) list of train_losses evaluated every minibatch\n",
        "    - a (# of epochs + 1,) list of test_losses evaluated once at initialization and after each epoch\n",
        "    - a tensor containing samples generated by the trained model\n",
        "    \"\"\"\n",
        "\n",
        "    \"\"\" YOUR CODE HERE \"\"\"\n",
        "    # hyperparameters\n",
        "    batch_size = 128\n",
        "    num_epochs = 5\n",
        "    lr = 1e-3\n",
        "    \n",
        "    train_loader = data.DataLoader(train_data, batch_size=batch_size, shuffle=True)\n",
        "    test_loader = data.DataLoader(test_data, batch_size=batch_size)\n",
        "        \n",
        "    if torch.cuda.is_available():\n",
        "        device = 'cuda'\n",
        "    else:\n",
        "        device = 'cpu'\n",
        "                                  \n",
        "    model = PixelCNN()\n",
        "    model = model.to(device)\n",
        "    \n",
        "    optimizer = torch.optim.Adam(model.parameters(), lr=lr)    \n",
        "\n",
        "    train_losses, test_losses = train(model, train_loader, test_loader, num_epochs= num_epochs, optimizer=optimizer)\n",
        "\n",
        "    samples = sample(model)\n",
        "    \n",
        "    return train_losses, test_losses, samples"
      ]
    },
    {
      "cell_type": "markdown",
      "metadata": {
        "id": "DNJjEMmxmKOT"
      },
      "source": [
        "### Results\n",
        "\n",
        "Once you've implemented `q2_a`, execute the cell below to visualize and save your results"
      ]
    },
    {
      "cell_type": "code",
      "execution_count": 23,
      "metadata": {
        "colab": {
          "base_uri": "https://localhost:8080/"
        },
        "id": "U2otGF2mizqA",
        "outputId": "7bb358ed-4e25-43a1-9780-9dd0bdf7b1e8"
      },
      "outputs": [
        {
          "output_type": "execute_result",
          "data": {
            "text/plain": [
              "tensor(255, dtype=torch.uint8)"
            ]
          },
          "metadata": {},
          "execution_count": 23
        }
      ],
      "source": [
        "train_data.data.unsqueeze(1).shape\n",
        "np.expand_dims(train_data.data, 1).shape\n",
        "train_data.data.shape\n",
        "test_data.data.shape\n",
        "torch.max(test_data.data[:])"
      ]
    },
    {
      "cell_type": "code",
      "execution_count": 24,
      "metadata": {
        "id": "PQoj6As1o7uU",
        "scrolled": false,
        "colab": {
          "base_uri": "https://localhost:8080/",
          "height": 681
        },
        "outputId": "96cb2aff-f2e5-45df-a71f-d67a3478cd3e"
      },
      "outputs": [
        {
          "output_type": "stream",
          "name": "stdout",
          "text": [
            "Epoch:  0 ,\t training_loss:  1.2200620264641002 ,\t validation loss: 0.807062302684784\n",
            "Epoch:  1 ,\t training_loss:  0.7866608107776276 ,\t validation loss: 0.7664076286315918\n",
            "Epoch:  2 ,\t training_loss:  0.7595943559461565 ,\t validation loss: 0.7509861299514771\n",
            "Epoch:  3 ,\t training_loss:  0.7472954722864034 ,\t validation loss: 0.7425000492095948\n",
            "Epoch:  4 ,\t training_loss:  0.7392718131099937 ,\t validation loss: 0.7319034459114074\n",
            "Final Test Loss: 0.7319\n"
          ]
        },
        {
          "output_type": "display_data",
          "data": {
            "text/plain": [
              "<Figure size 432x288 with 1 Axes>"
            ],
            "image/png": "[encoded data removed]"
          },
          "metadata": {
            "needs_background": "light"
          }
        },
        {
          "output_type": "display_data",
          "data": {
            "text/plain": [
              "<Figure size 432x288 with 1 Axes>"
            ],
            "image/png": "[encoded data removed]"
          },
          "metadata": {
            "needs_background": "light"
          }
        }
      ],
      "source": [
        "q2a_save_results(q2_a, train_data, test_data)"
      ]
    },
    {
      "cell_type": "markdown",
      "metadata": {
        "id": "NPyDAkD7kTlN"
      },
      "source": [
        " ### <font color='red'> Inline Question 3 </font>\n",
        "\n",
        "*   Bits per dim is a common metric to evaluate these autoregressive models such as PixelCNN. Please describe what bits per dim is, what is its relationship with log-likelihood and how it is calculated.\n",
        "\n",
        "<font color='green'> My Answers </font>\n",
        "* Bits per dim is an evaluation metric that is widely used in Generative model related papers for performance comparison between models. It solves the problem of being able to compare performance of the models on different datasets. For example, one dataset can be comprised of images of size 8x8 whereas another dataset might have images of size 32x32. To calculate bits per dim, compute the negative log likelihood in base e. Then apply change of base for converting log base e to log base 2. Finally divide by the number of pixels (dim) (e.g. 2352 pixels for a 28x28 rgb image). To change base for the log, just divide the log base e value by log(2). Its relationship to log-likelihood is aparrent from the aforementioned equation which shows how one can be derived given the other.\n"
      ]
    },
    {
      "cell_type": "markdown",
      "metadata": {
        "id": "R928z8AgXa2d"
      },
      "source": [
        "## Part (b) PixelCNN+ on MNIST (15 Points)"
      ]
    },
    {
      "cell_type": "markdown",
      "metadata": {
        "id": "k9HjM0SVX_4U"
      },
      "source": [
        "In this part, you will implement the mixture of logistics used in PixelCNN++, instead of the cross entropy loss used in the original PixelCNN. We call this model PixelCNN+, since we are only adapting the loss function and not implementing the other details presented in PixelCNN++. Let's start by loading the dataset, this time we will normalize the pixels to be in the range [-1,1]"
      ]
    },
    {
      "cell_type": "code",
      "execution_count": 25,
      "metadata": {
        "id": "KPyMItkwnVw6",
        "colab": {
          "base_uri": "https://localhost:8080/",
          "height": 420
        },
        "outputId": "181b85b6-ecf4-4a28-93cf-e3a059a034c9"
      },
      "outputs": [
        {
          "output_type": "stream",
          "name": "stdout",
          "text": [
            "Dataset MNIST\n",
            "    Number of datapoints: 60000\n",
            "    Root location: /content/data\n",
            "    Split: Train\n",
            "    StandardTransform\n",
            "Transform: Compose(\n",
            "               ToTensor()\n",
            "               <function <lambda> at 0x7fbe59b58b00>\n",
            "           )\n"
          ]
        },
        {
          "output_type": "display_data",
          "data": {
            "text/plain": [
              "<Figure size 432x288 with 1 Axes>"
            ],
            "image/png": "[encoded data removed]"
          },
          "metadata": {
            "needs_background": "light"
          }
        }
      ],
      "source": [
        "dataset_path = '/content/data'\n",
        "rescaling     = lambda x : (x - .5) * 2.\n",
        "rescaling_inv = lambda x : .5 * x  + .5\n",
        "transform = transforms.Compose([transforms.ToTensor(), rescaling])\n",
        "train_data = datasets.MNIST(root=dataset_path,\n",
        "                            train=True,\n",
        "                            download=True,\n",
        "                            transform=transform)\n",
        "test_data = datasets.MNIST(root=dataset_path,\n",
        "                            train=False,\n",
        "                            download=True,\n",
        "                            transform=transform)\n",
        "print(train_data)\n",
        "\n",
        "plt.imshow(train_data.data[447], cmap='gray')\n",
        "plt.title('%i' % train_data.targets[447])\n",
        "plt.axis('off')\n",
        "plt.show()"
      ]
    },
    {
      "cell_type": "code",
      "source": [
        "# Take a look at the data\n",
        "print(\"train_data.data.shape=\", train_data.data.shape)\n",
        "print(\"train_data.data[0].shape=\", train_data.data[0].shape)\n",
        "print(\"torch.min(train_data.data)=\", torch.min(train_data.data))\n",
        "print(\"torch.max(train_data.data)=\", torch.max(train_data.data))"
      ],
      "metadata": {
        "colab": {
          "base_uri": "https://localhost:8080/"
        },
        "id": "16-IMRbLXlw4",
        "outputId": "aff82a39-4d84-47bb-8e3b-585bca22d918"
      },
      "execution_count": 26,
      "outputs": [
        {
          "output_type": "stream",
          "name": "stdout",
          "text": [
            "train_data.data.shape= torch.Size([60000, 28, 28])\n",
            "train_data.data[0].shape= torch.Size([28, 28])\n",
            "torch.min(train_data.data)= tensor(0, dtype=torch.uint8)\n",
            "torch.max(train_data.data)= tensor(255, dtype=torch.uint8)\n"
          ]
        }
      ]
    },
    {
      "cell_type": "markdown",
      "metadata": {
        "id": "3jMRvOfTxT5l"
      },
      "source": [
        "### Solution"
      ]
    },
    {
      "cell_type": "markdown",
      "metadata": {
        "id": "So9P0MWhcgF6"
      },
      "source": [
        "Please complete the `PixelCNNPlus` class below. Your model will be almost exactly the same with part (a), with a small modification on the last convolutional layer. Since we will output a mixture of logistics, instead of a 256 way softmax, the number of output channels should be equal to `3 * number_of_mixtures`. In the reference implementation, we use the `number_of_mixtures = 10`, therefore the last convolutional layer has `30` filters in total."
      ]
    },
    {
      "cell_type": "code",
      "execution_count": 27,
      "metadata": {
        "id": "_6hmQqVXp797"
      },
      "outputs": [],
      "source": [
        "class PixelCNNPlus(nn.Module):\n",
        "  def __init__(self, num_layers = 5, num_channels = 64, kernel_size = 7):\n",
        "    \"\"\" YOUR CODE HERE \"\"\"\n",
        "    super().__init__()\n",
        "    self.layers = []\n",
        "    self.layers.extend([MaskedConv2d(mask_type='A', in_channels=1, out_channels=num_channels, kernel_size=kernel_size, \n",
        "                stride=1, padding=3),\n",
        "                        torch.nn.BatchNorm2d(num_features=64),\n",
        "                        torch.nn.ReLU()])\n",
        "\n",
        "    for _ in range(num_layers):\n",
        "        self.layers.extend([MaskedConv2d(mask_type='B', in_channels=num_channels, out_channels=num_channels, kernel_size=kernel_size, \n",
        "                stride=1, padding=3),\n",
        "                        torch.nn.BatchNorm2d(num_features=64),\n",
        "                        torch.nn.ReLU()])\n",
        "    \n",
        "    self.layers.extend([MaskedConv2d(mask_type='B', in_channels=num_channels, out_channels=num_channels, kernel_size=1),\n",
        "                        torch.nn.BatchNorm2d(num_features=64),\n",
        "                        torch.nn.ReLU(),\n",
        "                        MaskedConv2d(mask_type='B', in_channels=num_channels, out_channels=(3*10), kernel_size=1)])\n",
        "    # Note that out_channels=(3*10) = (3*n_mix) --> 3 = (pi, mean, scale)\n",
        "    \n",
        "    self.model = torch.nn.Sequential(*self.layers)\n",
        "\n",
        "\n",
        "  def forward(self, x):\n",
        "    \"\"\" YOUR CODE HERE \"\"\"\n",
        "    pred = self.model(x)\n",
        "    return pred"
      ]
    },
    {
      "cell_type": "code",
      "source": [
        "# Auxilary methods\n",
        "def train(model, train_data_loader, test_data_loader, num_epochs, optimizer, loss):\n",
        "    train_losses = []\n",
        "    val_losses = []\n",
        "    # initial test_loss\n",
        "    test_losses = evaluate(model, test_data_loader, loss)\n",
        "    val_losses.append(test_losses)\n",
        "    \n",
        "    # training/test losses\n",
        "    for i in range(num_epochs):\n",
        "        cur_train_loss, cur_val_loss = train_one_epoch(model, train_data_loader, test_data_loader, optimizer, loss)\n",
        "        train_losses.extend(cur_train_loss)\n",
        "        val_losses.append(cur_val_loss)\n",
        "        print(\"Epoch: \", i, \",\\t training_loss: \", np.mean(cur_train_loss, axis=-1), \",\\t validation loss:\", cur_val_loss)\n",
        "    return train_losses, val_losses\n",
        "\n",
        "\n",
        "def train_one_epoch(model, train_data_loader, test_data_loader, optimizer, loss):\n",
        "    device = 'cpu'\n",
        "    if torch.cuda.is_available():\n",
        "        device = 'cuda'\n",
        "            \n",
        "    \n",
        "    model.train()\n",
        "    train_losses = []\n",
        "    for x, y in train_data_loader:\n",
        "        x = x.to(device)\n",
        "        y = y.to(device)\n",
        "        \n",
        "        # train\n",
        "        #cur_loss = model.loss(x)\n",
        "        pred = model(x)\n",
        "        cur_loss = loss(pred, x)\n",
        "        optimizer.zero_grad()\n",
        "        cur_loss.backward()\n",
        "        optimizer.step()\n",
        "        \n",
        "        train_losses.append(cur_loss.item())\n",
        "        \n",
        "    # test\n",
        "    test_losses = evaluate(model, test_data_loader, loss)\n",
        "    \n",
        "    return train_losses, test_losses\n",
        "\n",
        "def evaluate(model, test_data_loader, loss):\n",
        "    device = 'cpu'\n",
        "    if torch.cuda.is_available():\n",
        "        device = 'cuda'\n",
        "  \n",
        "    test_losses = 0\n",
        "    model.eval()\n",
        "    with torch.no_grad():\n",
        "        for x, y in test_data_loader:\n",
        "            x = x.to(device)\n",
        "            y = y.to(device)\n",
        "            \n",
        "            #cur_loss = model.loss(x)\n",
        "            pred = model(x)\n",
        "            cur_loss = loss(pred, x)\n",
        "            test_losses += (cur_loss.item() * len(x))\n",
        "        test_losses /= len(test_data_loader.dataset)\n",
        "        return test_losses"
      ],
      "metadata": {
        "id": "80yVI5m5xP6l"
      },
      "execution_count": 28,
      "outputs": []
    },
    {
      "cell_type": "markdown",
      "metadata": {
        "id": "QRnzCWxRc2Wl"
      },
      "source": [
        "\n",
        "The main implementation will be about the loss function. You need to implement **Discretized Logistic Mixture Likelihood** from PixelCNN++. Please take a look at the paper for the detailed explanation of this. Your implementation will be very similar to the Discretized Mixture of Logistics you implemented in Question 1 (b). However, here we will be working on images instead of 1-dimensional data. \n",
        "\n",
        "One important detail is that in this part, we normalize the data to be in the range [-1,1] when loading it, so the following function assumes that your data is in this range. Please fill out the following function:\n"
      ]
    },
    {
      "cell_type": "code",
      "execution_count": 29,
      "metadata": {
        "id": "IERg3_yXdJgo"
      },
      "outputs": [],
      "source": [
        "def mix_of_logistics_loss(fake, real):\n",
        "  \"\"\" YOUR CODE HERE \"\"\"\n",
        "  # Overview of the inputs:\n",
        "  # fake is the output of model(x).\n",
        "  # fake.shape = [batch_size, (3*n_mix), 28, 28] , it contains means, log_scales, pi s(logits)\n",
        "  # real.shape = [batch_size, 28, 28]\n",
        "  \n",
        "  pred = fake\n",
        "  # to generate meaningful samples convert [-1,1] range of the target pixels to [0,255] range\n",
        "  real = ((real + 1) * (255/2)).long() \n",
        "\n",
        "  # Note that NN predicts pi,means,scales, and we want the model with those params \n",
        "  # to output high probability for the real values.\n",
        "  for i in range(pred.shape[-1]):\n",
        "    for j in range(pred.shape[-1]):\n",
        "      # Extract mixture of logistics model parameters\n",
        "      # Assume the parameters are predicted in the order given below, it totally depends on your implementation\n",
        "      pi = pred[:,:10, i, j] # --> [batch_size, n_mix=10]\n",
        "      mean = pred[:, 10:20, i, j] # --> [batch_size, n_mix=10]\n",
        "      log_scale = pred[:, 20:, i, j] # --> [batch_size, n_mix=10]\n",
        "      inv_scale = torch.exp(-log_scale) # = exp(log(1/s)) = s # This is done for the purpose of stability\n",
        "\n",
        "\n",
        "      cur_pixels = real[:, 0, i, j].unsqueeze(1).repeat(1, 10) # --> [batch_size, n_mix]\n",
        "      plus = (cur_pixels + 0.5 - mean) * inv_scale # --> [batch_size, n_dims]\n",
        "      min = (cur_pixels - 0.5 - mean) * inv_scale # --> [batch_size, n_dims]\n",
        "\n",
        "      # Calculate CDF and PDF values\n",
        "      cdf_plus = torch.sigmoid(plus) # --> [batch_size, n_mix]\n",
        "      cdf_min = torch.sigmoid(min) # --> [batch_size, n_mix]\n",
        "\n",
        "      cdf_delta = torch.clamp(cdf_plus - cdf_min, min=1e-15) # PDF value of cur_pixels --> [batch_size, n_mix]\n",
        "      log_cdf_delta = torch.log(cdf_delta) # log likelihood\n",
        "\n",
        "\n",
        "      # Handle the edge cases\n",
        "      # For x = 0, we replace x - 0.5 by -inf. Therefore PDF value for x = -1 should equal to CDF value of x + 0.5\n",
        "      #pdf_zero = torch.log(torch.clamp(torch.sigmoid(inv_scale * ((-1 + 0.5) - mean)),\n",
        "      #min=1e-15)) \n",
        "      pdf_zero = torch.log(torch.clamp(torch.sigmoid(inv_scale * ((0 + 0.5) - mean)),\n",
        "      min=1e-15))\n",
        "      # For x = 255 we replace x + 0.5 by +inf. Therefore PDF value for x = 1 should equal to (1 - CDF(x - 0.5))\n",
        "      #pdf_d = torch.log(torch.clamp(1 - torch.sigmoid(inv_scale * ((1 - 0.5) - mean)),\n",
        "      #min=1e-15)) # same logic applied to x = 0 before but this time done for x = d-1\n",
        "      pdf_d = torch.log(torch.clamp(1 - torch.sigmoid(inv_scale * ((255 - 0.5) - mean)),\n",
        "      min=1e-15))\n",
        "\n",
        "      # Apply the edge case handling to our log likelihood (log_cdf_delta)\n",
        "      #x_log_probs = torch.where(cur_pixels < -0.99, pdf_zero,\n",
        "      #torch.where(cur_pixels > 1 - 1e-3,\n",
        "      #pdf_d, log_cdf_delta))\n",
        "      x_log_probs = torch.where(cur_pixels < 0.001, pdf_zero,\n",
        "      torch.where(cur_pixels > 255 - 1e-3,\n",
        "      pdf_d, log_cdf_delta))\n",
        "\n",
        "      pi_log_probs = F.log_softmax(pi, dim=1) # --> [batch_size x n_mix]\n",
        "      # calculate: pi * (sigmoid(x+0.5) - sigmoid(x-0.5)) for all n_mix\n",
        "      log_probs = x_log_probs + pi_log_probs # We sum due to properties of logarithm. Actually we're multiplying pi values with corresponding PDF values\n",
        "      return -1 * torch.mean(torch.logsumexp(log_probs, dim=1)) # return average loss for the given batch\n",
        "\n"
      ]
    },
    {
      "cell_type": "markdown",
      "metadata": {
        "id": "incQii-vdm-c"
      },
      "source": [
        "Now, you need to use this loss as the loss function in your training loop, instead of the Cross Entropy Loss from part (a). You can borrow your previous training loops / functions, but you may need to do some small changes for compatibility of the losses etc.\n",
        "\n",
        "Fill in the function `q2_b` below to train the model and return the correct deliverables. In this function, you will initialize your model and train this model. The reference implementation uses `batch_size = 128`, `num_epocs = 5`, `optimizer = Adam`, `lr = 1e-3` as hyperparameters. It should take around 16 minutes to train for 5 epochs\n",
        "\n",
        "**You will provide the following deliverables:**\n",
        "\n",
        "*   **A list of training losses evaluated at every minibatch. (Create an empty list before training, append the loss after every minibatch and return the final list).**\n",
        "*   **A list of test losses evaluated once at initialization and after each epoch. (Create an empty list. Evaluate on the test set before training and append it to this list. After every epoch, evaluate on the test set again and append to the list. Return the final list).**\n",
        "*   **25 samples drawn from your trained model. (The sampling function is already provided to you. Just call this function after training and return the samples).**\n",
        "\n",
        "Here is a pseudocode for the reference implementation:\n",
        "\n",
        "\n",
        "```\n",
        "function q2b():\n",
        "  batch_size = 128\n",
        "  num_epochs = 5\n",
        "  train_loader = data.DataLoader(train_data, ...)\n",
        "  test_loader = data.DataLoader(test_data, ...)\n",
        "  device = 'cuda:0' or 'cpu'\n",
        "  model = PixelCNNPlus().to(device)\n",
        "  train_losses, test_losses = train_model(model, train_loader, test_loader, ...)\n",
        "  \n",
        "  samples = sample_mixture(model)\n",
        "  return train_losses, test_losses, samples\n",
        "\n",
        "```"
      ]
    },
    {
      "cell_type": "code",
      "execution_count": 30,
      "metadata": {
        "id": "KLXjbAfxjGCU"
      },
      "outputs": [],
      "source": [
        "# Execute this cell, nothing to implement here\n",
        "def sample_mix(model):\n",
        "  \"\"\"\n",
        "  model: PixelCNNPlus model trained on MNIST\n",
        "\n",
        "  Returns\n",
        "  - sample: A tensor containing the samples generated by the model\n",
        "  \"\"\"\n",
        "  obs = (1, 28, 28)\n",
        "  sample_batch_size = 25\n",
        "  sample_op = sample_from_discretized_mix_logistic_1d\n",
        "  model.eval()\n",
        "  samples = torch.zeros(sample_batch_size, obs[0], obs[1], obs[2])\n",
        "  samples = samples.cuda()\n",
        "  for i in range(obs[1]):\n",
        "      for j in range(obs[2]):\n",
        "          samples_v = samples\n",
        "          out   = model(samples_v)\n",
        "          out_sample = sample_op(out, nr_mix=10)\n",
        "          samples[:, :, i, j] = out_sample.data[:, :, i, j]\n",
        "  return rescaling_inv(samples).cpu()"
      ]
    },
    {
      "cell_type": "code",
      "execution_count": 31,
      "metadata": {
        "id": "sF-pStecjEbp"
      },
      "outputs": [],
      "source": [
        "def q2_b(train_data, test_data):\n",
        "  \"\"\"\n",
        "  train_data: A (n_train, H, W) numpy array of greyscale MNIST images\n",
        "  test_data: A (n_test, H, W) numpy array of greyscale MNIST images\n",
        "\n",
        "  Returns\n",
        "  - a (# of training iterations,) list of train_losses evaluated every minibatch\n",
        "  - a (# of epochs + 1,) list of test_losses evaluated once at initialization and after each epoch\n",
        "  - a tensor containing samples generated by the trained model\n",
        "  \"\"\"\n",
        "  \n",
        "  \"\"\" YOUR CODE HERE \"\"\"\n",
        "  # hyperparameters\n",
        "  batch_size = 128\n",
        "  num_epochs = 5\n",
        "  lr = 1e-3\n",
        "\n",
        "  train_loader = data.DataLoader(train_data, batch_size=batch_size, shuffle=True)\n",
        "  test_loader = data.DataLoader(test_data, batch_size=batch_size)\n",
        "      \n",
        "  if torch.cuda.is_available():\n",
        "      device = 'cuda'\n",
        "  else:\n",
        "      device = 'cpu'\n",
        "                                \n",
        "  model = PixelCNNPlus()\n",
        "  model = model.to(device)\n",
        "\n",
        "  optimizer = torch.optim.Adam(model.parameters(), lr=lr)\n",
        "  loss = mix_of_logistics_loss\n",
        "\n",
        "  train_losses, test_losses = train(model, train_loader, test_loader, num_epochs= num_epochs, optimizer=optimizer, loss=loss)\n",
        "\n",
        "  samples = sample_mix(model)\n",
        "\n",
        "  return train_losses, test_losses, samples"
      ]
    },
    {
      "cell_type": "markdown",
      "metadata": {
        "id": "DJK6USuDmHh1"
      },
      "source": [
        "### Results\n",
        "\n",
        "Once you've implemented `q2_b`, execute the cell below to visualize and save your results"
      ]
    },
    {
      "cell_type": "code",
      "execution_count": 32,
      "metadata": {
        "id": "Yxyl9h3jl_OJ",
        "colab": {
          "base_uri": "https://localhost:8080/",
          "height": 681
        },
        "outputId": "4c3a4717-f32f-4041-980e-adb7e61a8fb2"
      },
      "outputs": [
        {
          "output_type": "stream",
          "name": "stdout",
          "text": [
            "Epoch:  0 ,\t training_loss:  0.0038830580707115213 ,\t validation loss: 1.5779584646224974e-07\n",
            "Epoch:  1 ,\t training_loss:  6.41340033683861e-08 ,\t validation loss: -5.736351013183594e-08\n",
            "Epoch:  2 ,\t training_loss:  2.241048726360267e-08 ,\t validation loss: 6.534457206726075e-08\n",
            "Epoch:  3 ,\t training_loss:  1.3254054002153116e-08 ,\t validation loss: -2.873241901397705e-08\n",
            "Epoch:  4 ,\t training_loss:  1.0943784912639081e-08 ,\t validation loss: -1.5020370483398438e-09\n",
            "Final Test Loss: -0.0000\n"
          ]
        },
        {
          "output_type": "display_data",
          "data": {
            "text/plain": [
              "<Figure size 432x288 with 1 Axes>"
            ],
            "image/png": "[encoded data removed]"
          },
          "metadata": {
            "needs_background": "light"
          }
        },
        {
          "output_type": "display_data",
          "data": {
            "text/plain": [
              "<Figure size 432x288 with 1 Axes>"
            ],
            "image/png": "[encoded data removed]"
          },
          "metadata": {
            "needs_background": "light"
          }
        }
      ],
      "source": [
        "q2b_save_results(q2_b, train_data, test_data)"
      ]
    },
    {
      "cell_type": "markdown",
      "metadata": {
        "id": "N3AfoRFzmFJs"
      },
      "source": [
        " ### <font color='red'> Inline Question 4 </font>\n",
        "\n",
        "*   PixelCNN++ uses descretized mixture of logistics instead of negative log likelihood. Please explain briefly what mixture of logistics is and why is it preferred when modeling distribution of images.\n",
        "\n",
        "<font color='green'> My Answers </font>\n",
        "* Mixture of logistics is a type of output function, and an alternative to a softmax layer. It is useful for modeling complex distributions. It is preferred when modeling distribution of images since, images are usually complex and their aspects usually are more complex to be modelled by using a single simple distribution. Mixture of logistics solves this issue by allowing one to learn a weighted combination of multiple simple distributions, in which the number of distributions is a hyperparameter, to model better."
      ]
    },
    {
      "cell_type": "markdown",
      "metadata": {
        "id": "Z7HKTrsUmQIt"
      },
      "source": [
        "## Part (c) GatedPixelCNN on MNIST (15 Points)"
      ]
    },
    {
      "cell_type": "markdown",
      "metadata": {
        "id": "VSfHhdUDpxBl"
      },
      "source": [
        "We will again train on MNIST. This time, we do not need to normalize the data."
      ]
    },
    {
      "cell_type": "code",
      "execution_count": 33,
      "metadata": {
        "id": "rVU9UM6Vpwcb",
        "colab": {
          "base_uri": "https://localhost:8080/",
          "height": 368
        },
        "outputId": "23d27b5b-0ed8-4a19-d850-1c2f94d862be"
      },
      "outputs": [
        {
          "output_type": "stream",
          "name": "stdout",
          "text": [
            "Dataset MNIST\n",
            "    Number of datapoints: 60000\n",
            "    Root location: /content/data\n",
            "    Split: Train\n",
            "    StandardTransform\n",
            "Transform: ToTensor()\n"
          ]
        },
        {
          "output_type": "display_data",
          "data": {
            "text/plain": [
              "<Figure size 432x288 with 1 Axes>"
            ],
            "image/png": "[encoded data removed]"
          },
          "metadata": {
            "needs_background": "light"
          }
        }
      ],
      "source": [
        "dataset_path = '/content/data'\n",
        "transform = transforms.ToTensor()\n",
        "train_data = datasets.MNIST(root=dataset_path,\n",
        "                            train=True,\n",
        "                            download=True,\n",
        "                            transform=transform)\n",
        "test_data = datasets.MNIST(root=dataset_path,\n",
        "                            train=False,\n",
        "                            download=True,\n",
        "                            transform=transform)\n",
        "print(train_data)\n",
        "\n",
        "plt.imshow(train_data.data[447], cmap='gray')\n",
        "plt.title('%i' % train_data.targets[447])\n",
        "plt.axis('off')\n",
        "plt.show()"
      ]
    },
    {
      "cell_type": "code",
      "source": [
        "print(train_data.data.shape)"
      ],
      "metadata": {
        "colab": {
          "base_uri": "https://localhost:8080/"
        },
        "id": "BoZZeQYn8Cc-",
        "outputId": "d65c5423-7a69-496f-ca7e-0eee84145409"
      },
      "execution_count": 34,
      "outputs": [
        {
          "output_type": "stream",
          "name": "stdout",
          "text": [
            "torch.Size([60000, 28, 28])\n"
          ]
        }
      ]
    },
    {
      "cell_type": "markdown",
      "metadata": {
        "id": "8jDx_sagxav8"
      },
      "source": [
        "### Solution"
      ]
    },
    {
      "cell_type": "markdown",
      "metadata": {
        "id": "lXuggoE7mbOj"
      },
      "source": [
        "In this part, you will implement the gated version of the PixelCNN, which solves the blind spot problem of PixelCNN. Please take a look at [the paper](https://arxiv.org/pdf/1606.05328.pdf) for the detailed implementation.\n",
        "\n",
        "First, we will start by implementing a GatedConv2d layer, following Figure 2 of the paper: ![gated](https://drive.google.com/uc?export=view&id=1slOjRQeQaQSVDUCPj6ZsUPFXDQsD9kua)\n",
        "\n",
        "Please take a look at this figure and read the Gated Convolutional Layers part of the paper carefully to implement the following function. This layer should include 4 convolutions with different kernel sizes, as shown in the figure. Again, a header is provided to you, but you may wish to write your own class or your own functions:\n",
        "\n"
      ]
    },
    {
      "cell_type": "code",
      "execution_count": 35,
      "metadata": {
        "id": "Uj3kf-Irp-SB"
      },
      "outputs": [],
      "source": [
        "class GatedConv2d(nn.Module):\n",
        "  def __init__(self, mask_type, in_channels, out_channels, kernel_size=7, padding=3):\n",
        "    \"\"\" YOUR CODE HERE \"\"\"\n",
        "    super().__init__()\n",
        "    assert mask_type in {'A', 'B'}\n",
        "    k = kernel_size\n",
        "    # Vertical Convolution Filter (nxn)\n",
        "    self.vertical = nn.Conv2d(in_channels, 2 * out_channels, kernel_size=k,\n",
        "                              padding=padding, bias=False)\n",
        "    # Horizontal Convolution Filter (1xn)\n",
        "    self.horizontal = nn.Conv2d(in_channels, 2 * out_channels, kernel_size=(1, k),\n",
        "                                padding=(0, padding), bias=False) # No need to pad height since kernel has H = 1\n",
        "    \n",
        "    # 1x1 convolution Filters below\n",
        "    self.vtoh = nn.Conv2d(2 * out_channels, 2 * out_channels, kernel_size=1, \n",
        "                            bias=False)\n",
        "    self.htoh = nn.Conv2d(out_channels, out_channels, kernel_size=1, \n",
        "                            bias=False)\n",
        "\n",
        "\n",
        "    # Create masks (vmask & hmask) separately for masking vertical Conv2d and horizontal Conv2d weights\n",
        "    # to comply with the autoregressive property of architecture.\n",
        "    # Note that these masks are registered as buffers since they won't be trained with optimization\n",
        "    self.register_buffer('vmask', self.vertical.weight.data.clone()) # Create a tensor with the same shape as the vertical Conv2d Weight\n",
        "    self.register_buffer('hmask', self.horizontal.weight.data.clone()) # Create a tensor with the same shape as the Horizontal Conv2d Weight\n",
        "\n",
        "    # We fill the masks with 1's which we will replace some with 0's to mask the future input elements\n",
        "    self.vmask.fill_(1)\n",
        "    self.hmask.fill_(1)\n",
        "    # zero the mask's lower half coordinates for the Vertical Mask for autoregressive purposes\n",
        "    self.vmask[:, :, k // 2 + 1:, :] = 0 # --> [batch_size, C, H, W] \n",
        "    # zero the mask's right half coordinates for the Horizontal Mask for autoregressive purposes\n",
        "    self.hmask[:, :, :, k // 2 + 1:] = 0\n",
        "    if mask_type == 'A':\n",
        "      self.hmask[:, :, :, k // 2] = 0\n",
        "\n",
        "  def down_shift(self, x):\n",
        "      x = x[:, :, :-1, :] # --> [batch_size, C, H, W]\n",
        "      pad = nn.ZeroPad2d((0, 0, 1, 0))\n",
        "      return pad(x)\n",
        "\n",
        "\n",
        "  def forward(self, x):\n",
        "    \"\"\" YOUR CODE HERE \"\"\"\n",
        "    # Since we receive x --> [B, 2* original_in_channel, H, W] by doing \n",
        "    # this chunk operation we obtain two identical copies of the original input (vx = hx)\n",
        "    vx, hx = x.chunk(2, dim=1) # Assume x has 2p channels then, vx and vh have p channels\n",
        "\n",
        "    self.vertical.weight.data *= self.vmask # Apply masking to Vertical Conv2d weights\n",
        "    self.horizontal.weight.data *= self.hmask # Apply masking to Horizontal Conv2d weights\n",
        "\n",
        "    vx = self.vertical(vx) # Forward pass with Vertical Filter\n",
        "    hx_new = self.horizontal(hx) # Forward pass with Horizontal filter\n",
        "    # Allow horizontal stack to see information from vertical stack\n",
        "    hx_new = hx_new + self.vtoh(self.down_shift(vx)) # add 1x1 Filter Convolved Vertical Convolution output to Horizontal Convolution output  \n",
        "\n",
        "    # Gates\n",
        "    vx_1, vx_2 = vx.chunk(2, dim=1) # divide 2p channeled vx to two p channel partitions\n",
        "    vx = torch.tanh(vx_1) * torch.sigmoid(vx_2) # LSTM alike gate\n",
        "\n",
        "    hx_1, hx_2 = hx_new.chunk(2, dim=1)\n",
        "    hx_new = torch.tanh(hx_1) * torch.sigmoid(hx_2)\n",
        "    hx_new = self.htoh(hx_new)\n",
        "    hx = hx + hx_new # residual connection alike addition for the Horizontal Conv2d input\n",
        "    return torch.cat((vx, hx), dim=1) # return 2p channelled"
      ]
    },
    {
      "cell_type": "markdown",
      "metadata": {
        "id": "3fhbuh1Bqym2"
      },
      "source": [
        "Now, you can use this layer inside your GatedPixelCNN++ model. Here is a pseudocode for the reference implementation:\n",
        "\n",
        "\n",
        "\n",
        "```\n",
        "class GatedPixelCNN\n",
        "  MaskedConv2d(mask_type='A', in_channels = 1, out_channels = 120, kernel_size = 7, padding = 3)\n",
        "  BatchNorm(num_features=2*120)\n",
        "  ReLU()\n",
        "\n",
        "  for _ in range(3):\n",
        "    GatedConv2d(mask_type='B', in_channels = 120, out_channels = 120, kernel_size = 7, padding = 3)\n",
        "    BatchNorm(num_features=2*120)\n",
        "    ReLU()\n",
        "  \n",
        "  MaskedConv2d(mask_type='B', in_channels = 120, out_channels = 256, kernel_size = 7, padding = 3)\n",
        "\n",
        "\n",
        "```\n",
        "\n"
      ]
    },
    {
      "cell_type": "code",
      "execution_count": 36,
      "metadata": {
        "id": "Zb8c4BO9qxhS"
      },
      "outputs": [],
      "source": [
        "class GatedPixelCNN(nn.Module):\n",
        "  def __init__(self, num_layers = 5, num_channels = 120, kernel_size=7):\n",
        "    \"\"\" YOUR CODE HERE \"\"\"\n",
        "    super().__init__()\n",
        "    \n",
        "    # 1^st NN\n",
        "    self.in_conv = torch.nn.Sequential(\n",
        "                   MaskedConv2d(mask_type='A', in_channels=1, out_channels=120, kernel_size=7, padding=3),\n",
        "                   )\n",
        "    \n",
        "    # 2^nd NN\n",
        "    self.layers = []\n",
        "    self.layers.extend([torch.nn.BatchNorm2d(num_features=2*120),\n",
        "                   torch.nn.ReLU()])\n",
        "    for _ in range(3):\n",
        "      self.layers.extend([\n",
        "                          GatedConv2d(mask_type='B', in_channels=120, out_channels=120, kernel_size=7, padding=3),\n",
        "                          torch.nn.BatchNorm2d(num_features=2*120),\n",
        "                          torch.nn.ReLU()\n",
        "      ])\n",
        "    self.net = torch.nn.Sequential(*self.layers)\n",
        "\n",
        "    # 3^rd NN\n",
        "    self.out_conv = torch.nn.Sequential(MaskedConv2d(mask_type='B', in_channels=120, out_channels=256, kernel_size=7, padding=3))\n",
        "      \n",
        "  def forward(self, x):\n",
        "    \"\"\" YOUR CODE HERE \"\"\"\n",
        "    batch_size = x.shape[0]\n",
        "\n",
        "    out = self.in_conv(x) # Regular Masked Convolution Forward pass\n",
        "    out = self.net(torch.cat((out, out), dim=1)).chunk(2, dim=1)[1] # Series of Gated Convolution Forward pass\n",
        "    out = self.out_conv(out) # Regular Masked Convolution Forward pass\n",
        "    \n",
        "    return out\n",
        "    "
      ]
    },
    {
      "cell_type": "code",
      "source": [
        "# Auxilary methods\n",
        "def train(model, train_data_loader, test_data_loader, num_epochs, optimizer, loss):\n",
        "    train_losses = []\n",
        "    val_losses = []\n",
        "    # initial test_loss\n",
        "    test_losses = evaluate(model, test_data_loader, loss)\n",
        "    val_losses.append(test_losses)\n",
        "    \n",
        "    # training/test losses\n",
        "    for i in range(num_epochs):\n",
        "        cur_train_loss, cur_val_loss = train_one_epoch(model, train_data_loader, test_data_loader, optimizer, loss)\n",
        "        train_losses.extend(cur_train_loss)\n",
        "        val_losses.append(cur_val_loss)\n",
        "        print(\"Epoch: \", i, \",\\t training_loss: \", np.mean(cur_train_loss, axis=-1), \",\\t validation loss:\", cur_val_loss)\n",
        "    return train_losses, val_losses\n",
        "\n",
        "\n",
        "def train_one_epoch(model, train_data_loader, test_data_loader, optimizer, loss):\n",
        "    device = 'cpu'\n",
        "    if torch.cuda.is_available():\n",
        "        device = 'cuda'\n",
        "            \n",
        "    \n",
        "    model.train()\n",
        "    train_losses = []\n",
        "    for x, y in train_data_loader:\n",
        "        x = x.to(device)\n",
        "        y = y.to(device)\n",
        "        \n",
        "        # train\n",
        "        pred = model(x)\n",
        "        cur_loss = loss(pred, (x[:,0,:,:]*255).long())\n",
        "        optimizer.zero_grad()\n",
        "        cur_loss.backward()\n",
        "        optimizer.step()\n",
        "        \n",
        "        train_losses.append(cur_loss.item())\n",
        "        \n",
        "    # test\n",
        "    test_losses = evaluate(model, test_data_loader, loss)\n",
        "    \n",
        "    return train_losses, test_losses\n",
        "\n",
        "def evaluate(model, test_data_loader, loss):\n",
        "    device = 'cpu'\n",
        "    if torch.cuda.is_available():\n",
        "        device = 'cuda'\n",
        "  \n",
        "    test_losses = 0\n",
        "    model.eval()\n",
        "    with torch.no_grad():\n",
        "        for x, y in test_data_loader:\n",
        "            x = x.to(device)\n",
        "            y = y.to(device)\n",
        "            \n",
        "            pred = model(x)\n",
        "            cur_loss = loss(pred, (x[:,0,:,:]*255).long())\n",
        "            test_losses += (cur_loss.item() * len(x))\n",
        "        test_losses /= len(test_data_loader.dataset)\n",
        "        return test_losses"
      ],
      "metadata": {
        "id": "K88qk8h4G4Uf"
      },
      "execution_count": 37,
      "outputs": []
    },
    {
      "cell_type": "markdown",
      "metadata": {
        "id": "QmGklqr3srDq"
      },
      "source": [
        "Now you are ready to train your model. Fill in the function `q2_c` below to train the model and return the correct deliverables. In this function, you will initialize your model and train this model. The reference implementation uses `batch_size = 128`, `num_epocs = 3`, `optimizer = Adam`, `lr = 1e-3` as hyperparameters. Use Cross Entropy Loss to train this model, just like in Part (a). It should take around 60-65 minutes to train for 3 epochs\n",
        "\n",
        "**You will provide the following deliverables:**\n",
        "\n",
        "*   **A list of training losses evaluated at every minibatch. (Create an empty list before training, append the loss after every minibatch and return the final list).**\n",
        "*   **A list of test losses evaluated once at initialization and after each epoch. (Create an empty list. Evaluate on the test set before training and append it to this list. After every epoch, evaluate on the test set again and append to the list. Return the final list).**\n",
        "*   **25 samples drawn from your trained model. (The sampling function is already provided to you. Just call this function after training and return the samples).**\n",
        "\n",
        "Here is a pseudocode for the reference implementation. Once again, you may wish to implement a generic training function (`train_model`) that takes your model and dataloaders and returns the training losses, or use your implementations from previous parts:\n",
        "\n",
        "\n",
        "```\n",
        "function q2c():\n",
        "  batch_size = 128\n",
        "  num_epochs = 3\n",
        "  train_loader = data.DataLoader(train_data, ...)\n",
        "  test_loader = data.DataLoader(test_data, ...)\n",
        "  device = 'cuda:0' or 'cpu'\n",
        "  model = GatedPixelCNN().to(device)\n",
        "  train_losses, test_losses = train_model(model, train_loader, test_loader, ...)\n",
        "  \n",
        "  samples = sample_gated(model)\n",
        "  return train_losses, test_losses, samples\n",
        "\n",
        "```\n",
        "\n"
      ]
    },
    {
      "cell_type": "code",
      "execution_count": 38,
      "metadata": {
        "id": "nfiEzCTOs_IL"
      },
      "outputs": [],
      "source": [
        "# Execute this cell, nothing to implement here\n",
        "def sample_gated(model):\n",
        "  \"\"\"\n",
        "  model: GatedPixelCNN model trained on MNIST\n",
        "\n",
        "  Returns\n",
        "  - sample: A tensor containing the samples generated by the model\n",
        "  \"\"\"\n",
        "  \n",
        "  no_images = 25\n",
        "  images_channels = 1\n",
        "  images_size = 28\n",
        "  sample = torch.Tensor(no_images, images_channels, images_size, images_size).cuda()\n",
        "  sample.fill_(0)\n",
        "\n",
        "  for i in range(images_size):\n",
        "    for j in range(images_size):\n",
        "      out = model(sample)\n",
        "      probs = F.softmax(out[:,:,i,j], dim=-1).data\n",
        "      sample[:,:,i,j] = torch.multinomial(probs, 1).float() / 255.0\n",
        "  return sample.cpu()"
      ]
    },
    {
      "cell_type": "code",
      "execution_count": 39,
      "metadata": {
        "id": "6sj0lAtQtE9a"
      },
      "outputs": [],
      "source": [
        "def q2_c(train_data, test_data):\n",
        "  \"\"\"\n",
        "  train_data: A (n_train, H, W) numpy array of greyscale MNIST images\n",
        "  test_data: A (n_test, H, W) numpy array of greyscale MNIST images\n",
        "\n",
        "  Returns\n",
        "  - a (# of training iterations,) list of train_losses evaluated every minibatch\n",
        "  - a (# of epochs + 1,) list of test_losses evaluated once at initialization and after each epoch\n",
        "  - a tensor containing samples generated by the trained model\n",
        "  \"\"\"\n",
        "  \n",
        "  \"\"\" YOUR CODE HERE \"\"\"\n",
        "  # hyperparameters\n",
        "  batch_size = 128\n",
        "  num_epochs = 3\n",
        "  lr = 1e-3\n",
        "\n",
        "  train_loader = data.DataLoader(train_data, batch_size=batch_size, shuffle=True)\n",
        "  test_loader = data.DataLoader(test_data, batch_size=batch_size)\n",
        "      \n",
        "  if torch.cuda.is_available():\n",
        "      device = 'cuda'\n",
        "  else:\n",
        "      device = 'cpu'\n",
        "                                \n",
        "  model = GatedPixelCNN()\n",
        "  model = model.to(device)\n",
        "\n",
        "  optimizer = torch.optim.Adam(model.parameters(), lr=lr)\n",
        "  loss = torch.nn.functional.cross_entropy\n",
        "\n",
        "  train_losses, test_losses = train(model, train_loader, test_loader, num_epochs= num_epochs, optimizer=optimizer, loss=loss)\n",
        "\n",
        "  samples = sample_gated(model)\n",
        "\n",
        "  return train_losses, test_losses, samples"
      ]
    },
    {
      "cell_type": "markdown",
      "metadata": {
        "id": "BHjta_HZtJ9l"
      },
      "source": [
        "### Results\n",
        "\n",
        "Once you've implemented `q2_c`, execute the cell below to visualize and save your results"
      ]
    },
    {
      "cell_type": "code",
      "execution_count": 40,
      "metadata": {
        "id": "6Md315H3tNgs",
        "colab": {
          "base_uri": "https://localhost:8080/",
          "height": 646
        },
        "outputId": "5ad36ca4-8a8d-4b4f-cb07-0ce702897785"
      },
      "outputs": [
        {
          "output_type": "stream",
          "name": "stdout",
          "text": [
            "Epoch:  0 ,\t training_loss:  0.8755233380586099 ,\t validation loss: 0.777031757736206\n",
            "Epoch:  1 ,\t training_loss:  0.7633623053778463 ,\t validation loss: 0.7517944172859192\n",
            "Epoch:  2 ,\t training_loss:  0.7424581180503373 ,\t validation loss: 0.7362255821228028\n",
            "Final Test Loss: 0.7362\n"
          ]
        },
        {
          "output_type": "display_data",
          "data": {
            "text/plain": [
              "<Figure size 432x288 with 1 Axes>"
            ],
            "image/png": "[encoded data removed]"
          },
          "metadata": {
            "needs_background": "light"
          }
        },
        {
          "output_type": "display_data",
          "data": {
            "text/plain": [
              "<Figure size 432x288 with 1 Axes>"
            ],
            "image/png": "[encoded data removed]"
          },
          "metadata": {
            "needs_background": "light"
          }
        }
      ],
      "source": [
        "q2c_save_results(q2_c, train_data, test_data)"
      ]
    },
    {
      "cell_type": "markdown",
      "metadata": {
        "id": "y0trxd7Hmhmk"
      },
      "source": [
        " ### <font color='red'> Inline Question 5 </font>\n",
        "\n",
        "*   In question 2, you have implemented various PixelCNN models. You have seen the effective receptive fields of each of these models. It's time to visualize them. Please execute the nest cell to visualize receptive fields for PixelCNN and GatedPixelCNN (This cell should run with no issues if you have implemented the MaskedConv2d and GatedConv2d classes correctly, with the given arguments. If you have changed the input arguments etc. you might need to modify this cell.)\n",
        "*   Please briefly explain your observations. What is the difference between the PixelCNN and GatedPixelCNN in terms of these receptive fields? What causes this difference and why is this important?\n",
        "\n",
        "\n",
        "\n",
        "<font color='green'> My Answers </font>\n",
        "  \n",
        "  The difference between the PixelCNN and GatedPixelCNN in terms of their receptive fields is that PixelCNN suffers from the blind spot problem which causes it to have a smaller receptive field on certain locations of the image when compared to the receptive field of GatedPixelCNN. Therefore GatedPixelCNN has a larger receptive field. This blind spot problem stems from during generation of a pixel value model not being able to include all the previous pixels in the history. Therefore in the results below, for the PixelCNN we observe that some of the prior pixels of the right top of the target pixel are not included in the receptive field. On the other hand, GatedPixelCNN does not suffer form this issue and it is able to entail all of the prior history while generating target. This stems from the fact that GatedPixelCNN architecture uses both vertical and horizontal convolutions and combines their results in an autoregressive compliant way so that during the generation of the target all of the prior information is considered by the body. As a results GatedPixelCNN results at the bottom show that receptive field includes all of the prior pixel information.\n"
      ]
    },
    {
      "cell_type": "code",
      "execution_count": 41,
      "metadata": {
        "id": "uXgFGdAJjwLz",
        "colab": {
          "base_uri": "https://localhost:8080/",
          "height": 574
        },
        "outputId": "1eb3ca1d-464c-42fb-b6c2-74a5819f8829"
      },
      "outputs": [
        {
          "output_type": "display_data",
          "data": {
            "text/plain": [
              "<Figure size 360x720 with 6 Axes>"
            ],
            "image/png": "[encoded data removed]"
          },
          "metadata": {
            "needs_background": "light"
          }
        }
      ],
      "source": [
        "def visualize_receptive_field():\n",
        "  layer1 = MaskedConv2d('A',1, 1, 3, 1, 1).cuda()\n",
        "  layer2 = MaskedConv2d('B',1, 1, 3, 1, 1).cuda()\n",
        "  gated_layer1 = GatedConv2d('A',1, 1, 3, 1).cuda()\n",
        "  gated_layer2 = GatedConv2d('B',1, 1, 3, 1).cuda()\n",
        "  x = torch.randn(1, 1, 11, 11).cuda()\n",
        "  x.requires_grad = True\n",
        "  x_g = torch.randn(1, 1, 11, 11).cuda()\n",
        "  x_g.requires_grad = True\n",
        "  nrows = 3\n",
        "  fig, ax = plt.subplots(nrows=nrows, ncols=2,figsize=(5,10))\n",
        "  for j,row in enumerate(ax):\n",
        "    out_g = torch.cat((x_g, x_g), dim=1)\n",
        "    out_g = gated_layer1(out_g)\n",
        "    out = layer1(x)\n",
        "    for i in range(j):\n",
        "      out = layer2(out)\n",
        "      out_g = gated_layer2(out_g)\n",
        "    out_g = out_g.chunk(2, dim=1)[1]\n",
        "    col1, col2 = row\n",
        "    plot_receptive_field(out, x, col1, ' PixelCNN', j+1)\n",
        "    plot_receptive_field(out_g, x_g, col2, ' GatedPixelCNN', j+1)\n",
        "    x.grad.zero_()\n",
        "    x_g.grad.zero_()\n",
        "\n",
        "visualize_receptive_field()"
      ]
    },
    {
      "cell_type": "markdown",
      "metadata": {
        "id": "6tQSzOjn4Vkq"
      },
      "source": [
        "*This assignment is adapted from UC Berkeley [CS294-158-SP20](https://sites.google.com/view/berkeley-cs294-158-sp20/home)*"
      ]
    }
  ],
  "metadata": {
    "accelerator": "GPU",
    "colab": {
      "collapsed_sections": [],
      "name": "HW1_Autoregressive_Models_f1.ipynb",
      "provenance": []
    },
    "kernelspec": {
      "display_name": "Python 3 (ipykernel)",
      "language": "python",
      "name": "python3"
    },
    "language_info": {
      "codemirror_mode": {
        "name": "ipython",
        "version": 3
      },
      "file_extension": ".py",
      "mimetype": "text/x-python",
      "name": "python",
      "nbconvert_exporter": "python",
      "pygments_lexer": "ipython3",
      "version": "3.7.11"
    },
    "widgets": {
      "application/vnd.jupyter.widget-state+json": {
        "4818e5769f42404395bd4ac452e04529": {
          "model_module": "@jupyter-widgets/controls",
          "model_name": "HBoxModel",
          "model_module_version": "1.5.0",
          "state": {
            "_dom_classes": [],
            "_model_module": "@jupyter-widgets/controls",
            "_model_module_version": "1.5.0",
            "_model_name": "HBoxModel",
            "_view_count": null,
            "_view_module": "@jupyter-widgets/controls",
            "_view_module_version": "1.5.0",
            "_view_name": "HBoxView",
            "box_style": "",
            "children": [
              "IPY_MODEL_bf623428516540d4957372356457a84e",
              "IPY_MODEL_fc3d878f590a43cf946191b2cc25588c",
              "IPY_MODEL_1f389c9decec409aa00698e5651b3b02"
            ],
            "layout": "IPY_MODEL_d07b6a33b6bd4a91ba6b5018c744780a"
          }
        },
        "bf623428516540d4957372356457a84e": {
          "model_module": "@jupyter-widgets/controls",
          "model_name": "HTMLModel",
          "model_module_version": "1.5.0",
          "state": {
            "_dom_classes": [],
            "_model_module": "@jupyter-widgets/controls",
            "_model_module_version": "1.5.0",
            "_model_name": "HTMLModel",
            "_view_count": null,
            "_view_module": "@jupyter-widgets/controls",
            "_view_module_version": "1.5.0",
            "_view_name": "HTMLView",
            "description": "",
            "description_tooltip": null,
            "layout": "IPY_MODEL_2d44c391a4574f81bcd0e281bb447613",
            "placeholder": "​",
            "style": "IPY_MODEL_c6225c6d519e490e981e0bad41fd7f3c",
            "value": ""
          }
        },
        "fc3d878f590a43cf946191b2cc25588c": {
          "model_module": "@jupyter-widgets/controls",
          "model_name": "FloatProgressModel",
          "model_module_version": "1.5.0",
          "state": {
            "_dom_classes": [],
            "_model_module": "@jupyter-widgets/controls",
            "_model_module_version": "1.5.0",
            "_model_name": "FloatProgressModel",
            "_view_count": null,
            "_view_module": "@jupyter-widgets/controls",
            "_view_module_version": "1.5.0",
            "_view_name": "ProgressView",
            "bar_style": "success",
            "description": "",
            "description_tooltip": null,
            "layout": "IPY_MODEL_5052bbd0741a4fe789e4d69616b8d44e",
            "max": 9912422,
            "min": 0,
            "orientation": "horizontal",
            "style": "IPY_MODEL_512da79608d44daca4b77d8af09e6a3e",
            "value": 9912422
          }
        },
        "1f389c9decec409aa00698e5651b3b02": {
          "model_module": "@jupyter-widgets/controls",
          "model_name": "HTMLModel",
          "model_module_version": "1.5.0",
          "state": {
            "_dom_classes": [],
            "_model_module": "@jupyter-widgets/controls",
            "_model_module_version": "1.5.0",
            "_model_name": "HTMLModel",
            "_view_count": null,
            "_view_module": "@jupyter-widgets/controls",
            "_view_module_version": "1.5.0",
            "_view_name": "HTMLView",
            "description": "",
            "description_tooltip": null,
            "layout": "IPY_MODEL_d423bac51f49420ca772e226b3dd7539",
            "placeholder": "​",
            "style": "IPY_MODEL_1a4432ab9d9a4a78959029c23104148d",
            "value": " 9913344/? [00:00&lt;00:00, 51920513.79it/s]"
          }
        },
        "d07b6a33b6bd4a91ba6b5018c744780a": {
          "model_module": "@jupyter-widgets/base",
          "model_name": "LayoutModel",
          "model_module_version": "1.2.0",
          "state": {
            "_model_module": "@jupyter-widgets/base",
            "_model_module_version": "1.2.0",
            "_model_name": "LayoutModel",
            "_view_count": null,
            "_view_module": "@jupyter-widgets/base",
            "_view_module_version": "1.2.0",
            "_view_name": "LayoutView",
            "align_content": null,
            "align_items": null,
            "align_self": null,
            "border": null,
            "bottom": null,
            "display": null,
            "flex": null,
            "flex_flow": null,
            "grid_area": null,
            "grid_auto_columns": null,
            "grid_auto_flow": null,
            "grid_auto_rows": null,
            "grid_column": null,
            "grid_gap": null,
            "grid_row": null,
            "grid_template_areas": null,
            "grid_template_columns": null,
            "grid_template_rows": null,
            "height": null,
            "justify_content": null,
            "justify_items": null,
            "left": null,
            "margin": null,
            "max_height": null,
            "max_width": null,
            "min_height": null,
            "min_width": null,
            "object_fit": null,
            "object_position": null,
            "order": null,
            "overflow": null,
            "overflow_x": null,
            "overflow_y": null,
            "padding": null,
            "right": null,
            "top": null,
            "visibility": null,
            "width": null
          }
        },
        "2d44c391a4574f81bcd0e281bb447613": {
          "model_module": "@jupyter-widgets/base",
          "model_name": "LayoutModel",
          "model_module_version": "1.2.0",
          "state": {
            "_model_module": "@jupyter-widgets/base",
            "_model_module_version": "1.2.0",
            "_model_name": "LayoutModel",
            "_view_count": null,
            "_view_module": "@jupyter-widgets/base",
            "_view_module_version": "1.2.0",
            "_view_name": "LayoutView",
            "align_content": null,
            "align_items": null,
            "align_self": null,
            "border": null,
            "bottom": null,
            "display": null,
            "flex": null,
            "flex_flow": null,
            "grid_area": null,
            "grid_auto_columns": null,
            "grid_auto_flow": null,
            "grid_auto_rows": null,
            "grid_column": null,
            "grid_gap": null,
            "grid_row": null,
            "grid_template_areas": null,
            "grid_template_columns": null,
            "grid_template_rows": null,
            "height": null,
            "justify_content": null,
            "justify_items": null,
            "left": null,
            "margin": null,
            "max_height": null,
            "max_width": null,
            "min_height": null,
            "min_width": null,
            "object_fit": null,
            "object_position": null,
            "order": null,
            "overflow": null,
            "overflow_x": null,
            "overflow_y": null,
            "padding": null,
            "right": null,
            "top": null,
            "visibility": null,
            "width": null
          }
        },
        "c6225c6d519e490e981e0bad41fd7f3c": {
          "model_module": "@jupyter-widgets/controls",
          "model_name": "DescriptionStyleModel",
          "model_module_version": "1.5.0",
          "state": {
            "_model_module": "@jupyter-widgets/controls",
            "_model_module_version": "1.5.0",
            "_model_name": "DescriptionStyleModel",
            "_view_count": null,
            "_view_module": "@jupyter-widgets/base",
            "_view_module_version": "1.2.0",
            "_view_name": "StyleView",
            "description_width": ""
          }
        },
        "5052bbd0741a4fe789e4d69616b8d44e": {
          "model_module": "@jupyter-widgets/base",
          "model_name": "LayoutModel",
          "model_module_version": "1.2.0",
          "state": {
            "_model_module": "@jupyter-widgets/base",
            "_model_module_version": "1.2.0",
            "_model_name": "LayoutModel",
            "_view_count": null,
            "_view_module": "@jupyter-widgets/base",
            "_view_module_version": "1.2.0",
            "_view_name": "LayoutView",
            "align_content": null,
            "align_items": null,
            "align_self": null,
            "border": null,
            "bottom": null,
            "display": null,
            "flex": null,
            "flex_flow": null,
            "grid_area": null,
            "grid_auto_columns": null,
            "grid_auto_flow": null,
            "grid_auto_rows": null,
            "grid_column": null,
            "grid_gap": null,
            "grid_row": null,
            "grid_template_areas": null,
            "grid_template_columns": null,
            "grid_template_rows": null,
            "height": null,
            "justify_content": null,
            "justify_items": null,
            "left": null,
            "margin": null,
            "max_height": null,
            "max_width": null,
            "min_height": null,
            "min_width": null,
            "object_fit": null,
            "object_position": null,
            "order": null,
            "overflow": null,
            "overflow_x": null,
            "overflow_y": null,
            "padding": null,
            "right": null,
            "top": null,
            "visibility": null,
            "width": null
          }
        },
        "512da79608d44daca4b77d8af09e6a3e": {
          "model_module": "@jupyter-widgets/controls",
          "model_name": "ProgressStyleModel",
          "model_module_version": "1.5.0",
          "state": {
            "_model_module": "@jupyter-widgets/controls",
            "_model_module_version": "1.5.0",
            "_model_name": "ProgressStyleModel",
            "_view_count": null,
            "_view_module": "@jupyter-widgets/base",
            "_view_module_version": "1.2.0",
            "_view_name": "StyleView",
            "bar_color": null,
            "description_width": ""
          }
        },
        "d423bac51f49420ca772e226b3dd7539": {
          "model_module": "@jupyter-widgets/base",
          "model_name": "LayoutModel",
          "model_module_version": "1.2.0",
          "state": {
            "_model_module": "@jupyter-widgets/base",
            "_model_module_version": "1.2.0",
            "_model_name": "LayoutModel",
            "_view_count": null,
            "_view_module": "@jupyter-widgets/base",
            "_view_module_version": "1.2.0",
            "_view_name": "LayoutView",
            "align_content": null,
            "align_items": null,
            "align_self": null,
            "border": null,
            "bottom": null,
            "display": null,
            "flex": null,
            "flex_flow": null,
            "grid_area": null,
            "grid_auto_columns": null,
            "grid_auto_flow": null,
            "grid_auto_rows": null,
            "grid_column": null,
            "grid_gap": null,
            "grid_row": null,
            "grid_template_areas": null,
            "grid_template_columns": null,
            "grid_template_rows": null,
            "height": null,
            "justify_content": null,
            "justify_items": null,
            "left": null,
            "margin": null,
            "max_height": null,
            "max_width": null,
            "min_height": null,
            "min_width": null,
            "object_fit": null,
            "object_position": null,
            "order": null,
            "overflow": null,
            "overflow_x": null,
            "overflow_y": null,
            "padding": null,
            "right": null,
            "top": null,
            "visibility": null,
            "width": null
          }
        },
        "1a4432ab9d9a4a78959029c23104148d": {
          "model_module": "@jupyter-widgets/controls",
          "model_name": "DescriptionStyleModel",
          "model_module_version": "1.5.0",
          "state": {
            "_model_module": "@jupyter-widgets/controls",
            "_model_module_version": "1.5.0",
            "_model_name": "DescriptionStyleModel",
            "_view_count": null,
            "_view_module": "@jupyter-widgets/base",
            "_view_module_version": "1.2.0",
            "_view_name": "StyleView",
            "description_width": ""
          }
        },
        "1c85fc71e2554cd294aca16be5abb038": {
          "model_module": "@jupyter-widgets/controls",
          "model_name": "HBoxModel",
          "model_module_version": "1.5.0",
          "state": {
            "_dom_classes": [],
            "_model_module": "@jupyter-widgets/controls",
            "_model_module_version": "1.5.0",
            "_model_name": "HBoxModel",
            "_view_count": null,
            "_view_module": "@jupyter-widgets/controls",
            "_view_module_version": "1.5.0",
            "_view_name": "HBoxView",
            "box_style": "",
            "children": [
              "IPY_MODEL_932e6d501a4a4b47826fd4846041ee85",
              "IPY_MODEL_9fac960a95904353928793394f7e7391",
              "IPY_MODEL_6d2e8cb9420445a69c50d651b4adab41"
            ],
            "layout": "IPY_MODEL_2fbf92a5591942e2b4d7e941267e4139"
          }
        },
        "932e6d501a4a4b47826fd4846041ee85": {
          "model_module": "@jupyter-widgets/controls",
          "model_name": "HTMLModel",
          "model_module_version": "1.5.0",
          "state": {
            "_dom_classes": [],
            "_model_module": "@jupyter-widgets/controls",
            "_model_module_version": "1.5.0",
            "_model_name": "HTMLModel",
            "_view_count": null,
            "_view_module": "@jupyter-widgets/controls",
            "_view_module_version": "1.5.0",
            "_view_name": "HTMLView",
            "description": "",
            "description_tooltip": null,
            "layout": "IPY_MODEL_c9d5d3faa6c04fadafa3243f53383b65",
            "placeholder": "​",
            "style": "IPY_MODEL_85050672c175414188f740079fe476de",
            "value": ""
          }
        },
        "9fac960a95904353928793394f7e7391": {
          "model_module": "@jupyter-widgets/controls",
          "model_name": "FloatProgressModel",
          "model_module_version": "1.5.0",
          "state": {
            "_dom_classes": [],
            "_model_module": "@jupyter-widgets/controls",
            "_model_module_version": "1.5.0",
            "_model_name": "FloatProgressModel",
            "_view_count": null,
            "_view_module": "@jupyter-widgets/controls",
            "_view_module_version": "1.5.0",
            "_view_name": "ProgressView",
            "bar_style": "success",
            "description": "",
            "description_tooltip": null,
            "layout": "IPY_MODEL_9a342f075db7422a910a2417a892c9d9",
            "max": 28881,
            "min": 0,
            "orientation": "horizontal",
            "style": "IPY_MODEL_633b643912514f1fa1d6e5e762f19a87",
            "value": 28881
          }
        },
        "6d2e8cb9420445a69c50d651b4adab41": {
          "model_module": "@jupyter-widgets/controls",
          "model_name": "HTMLModel",
          "model_module_version": "1.5.0",
          "state": {
            "_dom_classes": [],
            "_model_module": "@jupyter-widgets/controls",
            "_model_module_version": "1.5.0",
            "_model_name": "HTMLModel",
            "_view_count": null,
            "_view_module": "@jupyter-widgets/controls",
            "_view_module_version": "1.5.0",
            "_view_name": "HTMLView",
            "description": "",
            "description_tooltip": null,
            "layout": "IPY_MODEL_bd7eb9a582fe41b2b784366e975fe96d",
            "placeholder": "​",
            "style": "IPY_MODEL_8a97e05a473d496d94383f91eef63ab6",
            "value": " 29696/? [00:00&lt;00:00, 706990.50it/s]"
          }
        },
        "2fbf92a5591942e2b4d7e941267e4139": {
          "model_module": "@jupyter-widgets/base",
          "model_name": "LayoutModel",
          "model_module_version": "1.2.0",
          "state": {
            "_model_module": "@jupyter-widgets/base",
            "_model_module_version": "1.2.0",
            "_model_name": "LayoutModel",
            "_view_count": null,
            "_view_module": "@jupyter-widgets/base",
            "_view_module_version": "1.2.0",
            "_view_name": "LayoutView",
            "align_content": null,
            "align_items": null,
            "align_self": null,
            "border": null,
            "bottom": null,
            "display": null,
            "flex": null,
            "flex_flow": null,
            "grid_area": null,
            "grid_auto_columns": null,
            "grid_auto_flow": null,
            "grid_auto_rows": null,
            "grid_column": null,
            "grid_gap": null,
            "grid_row": null,
            "grid_template_areas": null,
            "grid_template_columns": null,
            "grid_template_rows": null,
            "height": null,
            "justify_content": null,
            "justify_items": null,
            "left": null,
            "margin": null,
            "max_height": null,
            "max_width": null,
            "min_height": null,
            "min_width": null,
            "object_fit": null,
            "object_position": null,
            "order": null,
            "overflow": null,
            "overflow_x": null,
            "overflow_y": null,
            "padding": null,
            "right": null,
            "top": null,
            "visibility": null,
            "width": null
          }
        },
        "c9d5d3faa6c04fadafa3243f53383b65": {
          "model_module": "@jupyter-widgets/base",
          "model_name": "LayoutModel",
          "model_module_version": "1.2.0",
          "state": {
            "_model_module": "@jupyter-widgets/base",
            "_model_module_version": "1.2.0",
            "_model_name": "LayoutModel",
            "_view_count": null,
            "_view_module": "@jupyter-widgets/base",
            "_view_module_version": "1.2.0",
            "_view_name": "LayoutView",
            "align_content": null,
            "align_items": null,
            "align_self": null,
            "border": null,
            "bottom": null,
            "display": null,
            "flex": null,
            "flex_flow": null,
            "grid_area": null,
            "grid_auto_columns": null,
            "grid_auto_flow": null,
            "grid_auto_rows": null,
            "grid_column": null,
            "grid_gap": null,
            "grid_row": null,
            "grid_template_areas": null,
            "grid_template_columns": null,
            "grid_template_rows": null,
            "height": null,
            "justify_content": null,
            "justify_items": null,
            "left": null,
            "margin": null,
            "max_height": null,
            "max_width": null,
            "min_height": null,
            "min_width": null,
            "object_fit": null,
            "object_position": null,
            "order": null,
            "overflow": null,
            "overflow_x": null,
            "overflow_y": null,
            "padding": null,
            "right": null,
            "top": null,
            "visibility": null,
            "width": null
          }
        },
        "85050672c175414188f740079fe476de": {
          "model_module": "@jupyter-widgets/controls",
          "model_name": "DescriptionStyleModel",
          "model_module_version": "1.5.0",
          "state": {
            "_model_module": "@jupyter-widgets/controls",
            "_model_module_version": "1.5.0",
            "_model_name": "DescriptionStyleModel",
            "_view_count": null,
            "_view_module": "@jupyter-widgets/base",
            "_view_module_version": "1.2.0",
            "_view_name": "StyleView",
            "description_width": ""
          }
        },
        "9a342f075db7422a910a2417a892c9d9": {
          "model_module": "@jupyter-widgets/base",
          "model_name": "LayoutModel",
          "model_module_version": "1.2.0",
          "state": {
            "_model_module": "@jupyter-widgets/base",
            "_model_module_version": "1.2.0",
            "_model_name": "LayoutModel",
            "_view_count": null,
            "_view_module": "@jupyter-widgets/base",
            "_view_module_version": "1.2.0",
            "_view_name": "LayoutView",
            "align_content": null,
            "align_items": null,
            "align_self": null,
            "border": null,
            "bottom": null,
            "display": null,
            "flex": null,
            "flex_flow": null,
            "grid_area": null,
            "grid_auto_columns": null,
            "grid_auto_flow": null,
            "grid_auto_rows": null,
            "grid_column": null,
            "grid_gap": null,
            "grid_row": null,
            "grid_template_areas": null,
            "grid_template_columns": null,
            "grid_template_rows": null,
            "height": null,
            "justify_content": null,
            "justify_items": null,
            "left": null,
            "margin": null,
            "max_height": null,
            "max_width": null,
            "min_height": null,
            "min_width": null,
            "object_fit": null,
            "object_position": null,
            "order": null,
            "overflow": null,
            "overflow_x": null,
            "overflow_y": null,
            "padding": null,
            "right": null,
            "top": null,
            "visibility": null,
            "width": null
          }
        },
        "633b643912514f1fa1d6e5e762f19a87": {
          "model_module": "@jupyter-widgets/controls",
          "model_name": "ProgressStyleModel",
          "model_module_version": "1.5.0",
          "state": {
            "_model_module": "@jupyter-widgets/controls",
            "_model_module_version": "1.5.0",
            "_model_name": "ProgressStyleModel",
            "_view_count": null,
            "_view_module": "@jupyter-widgets/base",
            "_view_module_version": "1.2.0",
            "_view_name": "StyleView",
            "bar_color": null,
            "description_width": ""
          }
        },
        "bd7eb9a582fe41b2b784366e975fe96d": {
          "model_module": "@jupyter-widgets/base",
          "model_name": "LayoutModel",
          "model_module_version": "1.2.0",
          "state": {
            "_model_module": "@jupyter-widgets/base",
            "_model_module_version": "1.2.0",
            "_model_name": "LayoutModel",
            "_view_count": null,
            "_view_module": "@jupyter-widgets/base",
            "_view_module_version": "1.2.0",
            "_view_name": "LayoutView",
            "align_content": null,
            "align_items": null,
            "align_self": null,
            "border": null,
            "bottom": null,
            "display": null,
            "flex": null,
            "flex_flow": null,
            "grid_area": null,
            "grid_auto_columns": null,
            "grid_auto_flow": null,
            "grid_auto_rows": null,
            "grid_column": null,
            "grid_gap": null,
            "grid_row": null,
            "grid_template_areas": null,
            "grid_template_columns": null,
            "grid_template_rows": null,
            "height": null,
            "justify_content": null,
            "justify_items": null,
            "left": null,
            "margin": null,
            "max_height": null,
            "max_width": null,
            "min_height": null,
            "min_width": null,
            "object_fit": null,
            "object_position": null,
            "order": null,
            "overflow": null,
            "overflow_x": null,
            "overflow_y": null,
            "padding": null,
            "right": null,
            "top": null,
            "visibility": null,
            "width": null
          }
        },
        "8a97e05a473d496d94383f91eef63ab6": {
          "model_module": "@jupyter-widgets/controls",
          "model_name": "DescriptionStyleModel",
          "model_module_version": "1.5.0",
          "state": {
            "_model_module": "@jupyter-widgets/controls",
            "_model_module_version": "1.5.0",
            "_model_name": "DescriptionStyleModel",
            "_view_count": null,
            "_view_module": "@jupyter-widgets/base",
            "_view_module_version": "1.2.0",
            "_view_name": "StyleView",
            "description_width": ""
          }
        },
        "a223dca7c6344c7c9b53a5f9e94f0302": {
          "model_module": "@jupyter-widgets/controls",
          "model_name": "HBoxModel",
          "model_module_version": "1.5.0",
          "state": {
            "_dom_classes": [],
            "_model_module": "@jupyter-widgets/controls",
            "_model_module_version": "1.5.0",
            "_model_name": "HBoxModel",
            "_view_count": null,
            "_view_module": "@jupyter-widgets/controls",
            "_view_module_version": "1.5.0",
            "_view_name": "HBoxView",
            "box_style": "",
            "children": [
              "IPY_MODEL_bb539b64738945a8ab5690ef4a070fef",
              "IPY_MODEL_869e181d71f046279f749f413178eac0",
              "IPY_MODEL_50678fe4d65c4cc5895ea3147ef478f1"
            ],
            "layout": "IPY_MODEL_a7889d1e47ef42049f54313ce8b980ee"
          }
        },
        "bb539b64738945a8ab5690ef4a070fef": {
          "model_module": "@jupyter-widgets/controls",
          "model_name": "HTMLModel",
          "model_module_version": "1.5.0",
          "state": {
            "_dom_classes": [],
            "_model_module": "@jupyter-widgets/controls",
            "_model_module_version": "1.5.0",
            "_model_name": "HTMLModel",
            "_view_count": null,
            "_view_module": "@jupyter-widgets/controls",
            "_view_module_version": "1.5.0",
            "_view_name": "HTMLView",
            "description": "",
            "description_tooltip": null,
            "layout": "IPY_MODEL_fa7a9080984b473895fa175adeb0cffc",
            "placeholder": "​",
            "style": "IPY_MODEL_ca94873974724febbe0133f02389e874",
            "value": ""
          }
        },
        "869e181d71f046279f749f413178eac0": {
          "model_module": "@jupyter-widgets/controls",
          "model_name": "FloatProgressModel",
          "model_module_version": "1.5.0",
          "state": {
            "_dom_classes": [],
            "_model_module": "@jupyter-widgets/controls",
            "_model_module_version": "1.5.0",
            "_model_name": "FloatProgressModel",
            "_view_count": null,
            "_view_module": "@jupyter-widgets/controls",
            "_view_module_version": "1.5.0",
            "_view_name": "ProgressView",
            "bar_style": "success",
            "description": "",
            "description_tooltip": null,
            "layout": "IPY_MODEL_e6a392cebb4f48dda5c30d01dca17698",
            "max": 1648877,
            "min": 0,
            "orientation": "horizontal",
            "style": "IPY_MODEL_7c2f8ab5ee2943849b2b62c46c05e9fa",
            "value": 1648877
          }
        },
        "50678fe4d65c4cc5895ea3147ef478f1": {
          "model_module": "@jupyter-widgets/controls",
          "model_name": "HTMLModel",
          "model_module_version": "1.5.0",
          "state": {
            "_dom_classes": [],
            "_model_module": "@jupyter-widgets/controls",
            "_model_module_version": "1.5.0",
            "_model_name": "HTMLModel",
            "_view_count": null,
            "_view_module": "@jupyter-widgets/controls",
            "_view_module_version": "1.5.0",
            "_view_name": "HTMLView",
            "description": "",
            "description_tooltip": null,
            "layout": "IPY_MODEL_ad359dabbe8d47139f9c5025487e5841",
            "placeholder": "​",
            "style": "IPY_MODEL_f6ece6f1c438435ab74f701dd3c7cc14",
            "value": " 1649664/? [00:00&lt;00:00, 17473987.52it/s]"
          }
        },
        "a7889d1e47ef42049f54313ce8b980ee": {
          "model_module": "@jupyter-widgets/base",
          "model_name": "LayoutModel",
          "model_module_version": "1.2.0",
          "state": {
            "_model_module": "@jupyter-widgets/base",
            "_model_module_version": "1.2.0",
            "_model_name": "LayoutModel",
            "_view_count": null,
            "_view_module": "@jupyter-widgets/base",
            "_view_module_version": "1.2.0",
            "_view_name": "LayoutView",
            "align_content": null,
            "align_items": null,
            "align_self": null,
            "border": null,
            "bottom": null,
            "display": null,
            "flex": null,
            "flex_flow": null,
            "grid_area": null,
            "grid_auto_columns": null,
            "grid_auto_flow": null,
            "grid_auto_rows": null,
            "grid_column": null,
            "grid_gap": null,
            "grid_row": null,
            "grid_template_areas": null,
            "grid_template_columns": null,
            "grid_template_rows": null,
            "height": null,
            "justify_content": null,
            "justify_items": null,
            "left": null,
            "margin": null,
            "max_height": null,
            "max_width": null,
            "min_height": null,
            "min_width": null,
            "object_fit": null,
            "object_position": null,
            "order": null,
            "overflow": null,
            "overflow_x": null,
            "overflow_y": null,
            "padding": null,
            "right": null,
            "top": null,
            "visibility": null,
            "width": null
          }
        },
        "fa7a9080984b473895fa175adeb0cffc": {
          "model_module": "@jupyter-widgets/base",
          "model_name": "LayoutModel",
          "model_module_version": "1.2.0",
          "state": {
            "_model_module": "@jupyter-widgets/base",
            "_model_module_version": "1.2.0",
            "_model_name": "LayoutModel",
            "_view_count": null,
            "_view_module": "@jupyter-widgets/base",
            "_view_module_version": "1.2.0",
            "_view_name": "LayoutView",
            "align_content": null,
            "align_items": null,
            "align_self": null,
            "border": null,
            "bottom": null,
            "display": null,
            "flex": null,
            "flex_flow": null,
            "grid_area": null,
            "grid_auto_columns": null,
            "grid_auto_flow": null,
            "grid_auto_rows": null,
            "grid_column": null,
            "grid_gap": null,
            "grid_row": null,
            "grid_template_areas": null,
            "grid_template_columns": null,
            "grid_template_rows": null,
            "height": null,
            "justify_content": null,
            "justify_items": null,
            "left": null,
            "margin": null,
            "max_height": null,
            "max_width": null,
            "min_height": null,
            "min_width": null,
            "object_fit": null,
            "object_position": null,
            "order": null,
            "overflow": null,
            "overflow_x": null,
            "overflow_y": null,
            "padding": null,
            "right": null,
            "top": null,
            "visibility": null,
            "width": null
          }
        },
        "ca94873974724febbe0133f02389e874": {
          "model_module": "@jupyter-widgets/controls",
          "model_name": "DescriptionStyleModel",
          "model_module_version": "1.5.0",
          "state": {
            "_model_module": "@jupyter-widgets/controls",
            "_model_module_version": "1.5.0",
            "_model_name": "DescriptionStyleModel",
            "_view_count": null,
            "_view_module": "@jupyter-widgets/base",
            "_view_module_version": "1.2.0",
            "_view_name": "StyleView",
            "description_width": ""
          }
        },
        "e6a392cebb4f48dda5c30d01dca17698": {
          "model_module": "@jupyter-widgets/base",
          "model_name": "LayoutModel",
          "model_module_version": "1.2.0",
          "state": {
            "_model_module": "@jupyter-widgets/base",
            "_model_module_version": "1.2.0",
            "_model_name": "LayoutModel",
            "_view_count": null,
            "_view_module": "@jupyter-widgets/base",
            "_view_module_version": "1.2.0",
            "_view_name": "LayoutView",
            "align_content": null,
            "align_items": null,
            "align_self": null,
            "border": null,
            "bottom": null,
            "display": null,
            "flex": null,
            "flex_flow": null,
            "grid_area": null,
            "grid_auto_columns": null,
            "grid_auto_flow": null,
            "grid_auto_rows": null,
            "grid_column": null,
            "grid_gap": null,
            "grid_row": null,
            "grid_template_areas": null,
            "grid_template_columns": null,
            "grid_template_rows": null,
            "height": null,
            "justify_content": null,
            "justify_items": null,
            "left": null,
            "margin": null,
            "max_height": null,
            "max_width": null,
            "min_height": null,
            "min_width": null,
            "object_fit": null,
            "object_position": null,
            "order": null,
            "overflow": null,
            "overflow_x": null,
            "overflow_y": null,
            "padding": null,
            "right": null,
            "top": null,
            "visibility": null,
            "width": null
          }
        },
        "7c2f8ab5ee2943849b2b62c46c05e9fa": {
          "model_module": "@jupyter-widgets/controls",
          "model_name": "ProgressStyleModel",
          "model_module_version": "1.5.0",
          "state": {
            "_model_module": "@jupyter-widgets/controls",
            "_model_module_version": "1.5.0",
            "_model_name": "ProgressStyleModel",
            "_view_count": null,
            "_view_module": "@jupyter-widgets/base",
            "_view_module_version": "1.2.0",
            "_view_name": "StyleView",
            "bar_color": null,
            "description_width": ""
          }
        },
        "ad359dabbe8d47139f9c5025487e5841": {
          "model_module": "@jupyter-widgets/base",
          "model_name": "LayoutModel",
          "model_module_version": "1.2.0",
          "state": {
            "_model_module": "@jupyter-widgets/base",
            "_model_module_version": "1.2.0",
            "_model_name": "LayoutModel",
            "_view_count": null,
            "_view_module": "@jupyter-widgets/base",
            "_view_module_version": "1.2.0",
            "_view_name": "LayoutView",
            "align_content": null,
            "align_items": null,
            "align_self": null,
            "border": null,
            "bottom": null,
            "display": null,
            "flex": null,
            "flex_flow": null,
            "grid_area": null,
            "grid_auto_columns": null,
            "grid_auto_flow": null,
            "grid_auto_rows": null,
            "grid_column": null,
            "grid_gap": null,
            "grid_row": null,
            "grid_template_areas": null,
            "grid_template_columns": null,
            "grid_template_rows": null,
            "height": null,
            "justify_content": null,
            "justify_items": null,
            "left": null,
            "margin": null,
            "max_height": null,
            "max_width": null,
            "min_height": null,
            "min_width": null,
            "object_fit": null,
            "object_position": null,
            "order": null,
            "overflow": null,
            "overflow_x": null,
            "overflow_y": null,
            "padding": null,
            "right": null,
            "top": null,
            "visibility": null,
            "width": null
          }
        },
        "f6ece6f1c438435ab74f701dd3c7cc14": {
          "model_module": "@jupyter-widgets/controls",
          "model_name": "DescriptionStyleModel",
          "model_module_version": "1.5.0",
          "state": {
            "_model_module": "@jupyter-widgets/controls",
            "_model_module_version": "1.5.0",
            "_model_name": "DescriptionStyleModel",
            "_view_count": null,
            "_view_module": "@jupyter-widgets/base",
            "_view_module_version": "1.2.0",
            "_view_name": "StyleView",
            "description_width": ""
          }
        },
        "055369a72d3f43e98563090ca10d0587": {
          "model_module": "@jupyter-widgets/controls",
          "model_name": "HBoxModel",
          "model_module_version": "1.5.0",
          "state": {
            "_dom_classes": [],
            "_model_module": "@jupyter-widgets/controls",
            "_model_module_version": "1.5.0",
            "_model_name": "HBoxModel",
            "_view_count": null,
            "_view_module": "@jupyter-widgets/controls",
            "_view_module_version": "1.5.0",
            "_view_name": "HBoxView",
            "box_style": "",
            "children": [
              "IPY_MODEL_1523fa98fd4843a5968d3f52e8d06582",
              "IPY_MODEL_9a0d2a3e016e4d7b940dc149af91da50",
              "IPY_MODEL_a92ef48b68014d679c60ccbdf7228ffd"
            ],
            "layout": "IPY_MODEL_a6eee9e7b43d41d7beeaed4446c81fd2"
          }
        },
        "1523fa98fd4843a5968d3f52e8d06582": {
          "model_module": "@jupyter-widgets/controls",
          "model_name": "HTMLModel",
          "model_module_version": "1.5.0",
          "state": {
            "_dom_classes": [],
            "_model_module": "@jupyter-widgets/controls",
            "_model_module_version": "1.5.0",
            "_model_name": "HTMLModel",
            "_view_count": null,
            "_view_module": "@jupyter-widgets/controls",
            "_view_module_version": "1.5.0",
            "_view_name": "HTMLView",
            "description": "",
            "description_tooltip": null,
            "layout": "IPY_MODEL_71c057f323964b14ab9c35db2ff285a5",
            "placeholder": "​",
            "style": "IPY_MODEL_81b8109c24ba431ba6e85eb2138881ee",
            "value": ""
          }
        },
        "9a0d2a3e016e4d7b940dc149af91da50": {
          "model_module": "@jupyter-widgets/controls",
          "model_name": "FloatProgressModel",
          "model_module_version": "1.5.0",
          "state": {
            "_dom_classes": [],
            "_model_module": "@jupyter-widgets/controls",
            "_model_module_version": "1.5.0",
            "_model_name": "FloatProgressModel",
            "_view_count": null,
            "_view_module": "@jupyter-widgets/controls",
            "_view_module_version": "1.5.0",
            "_view_name": "ProgressView",
            "bar_style": "success",
            "description": "",
            "description_tooltip": null,
            "layout": "IPY_MODEL_a0f6ce6e03934e6995df2b47e908ec3d",
            "max": 4542,
            "min": 0,
            "orientation": "horizontal",
            "style": "IPY_MODEL_a741a0ea04a14b2d893cecaf41d705b7",
            "value": 4542
          }
        },
        "a92ef48b68014d679c60ccbdf7228ffd": {
          "model_module": "@jupyter-widgets/controls",
          "model_name": "HTMLModel",
          "model_module_version": "1.5.0",
          "state": {
            "_dom_classes": [],
            "_model_module": "@jupyter-widgets/controls",
            "_model_module_version": "1.5.0",
            "_model_name": "HTMLModel",
            "_view_count": null,
            "_view_module": "@jupyter-widgets/controls",
            "_view_module_version": "1.5.0",
            "_view_name": "HTMLView",
            "description": "",
            "description_tooltip": null,
            "layout": "IPY_MODEL_a1b11a37d542441d91103dff262e3b6d",
            "placeholder": "​",
            "style": "IPY_MODEL_70602f6081f54599b22c1809b65b95a1",
            "value": " 5120/? [00:00&lt;00:00, 143463.02it/s]"
          }
        },
        "a6eee9e7b43d41d7beeaed4446c81fd2": {
          "model_module": "@jupyter-widgets/base",
          "model_name": "LayoutModel",
          "model_module_version": "1.2.0",
          "state": {
            "_model_module": "@jupyter-widgets/base",
            "_model_module_version": "1.2.0",
            "_model_name": "LayoutModel",
            "_view_count": null,
            "_view_module": "@jupyter-widgets/base",
            "_view_module_version": "1.2.0",
            "_view_name": "LayoutView",
            "align_content": null,
            "align_items": null,
            "align_self": null,
            "border": null,
            "bottom": null,
            "display": null,
            "flex": null,
            "flex_flow": null,
            "grid_area": null,
            "grid_auto_columns": null,
            "grid_auto_flow": null,
            "grid_auto_rows": null,
            "grid_column": null,
            "grid_gap": null,
            "grid_row": null,
            "grid_template_areas": null,
            "grid_template_columns": null,
            "grid_template_rows": null,
            "height": null,
            "justify_content": null,
            "justify_items": null,
            "left": null,
            "margin": null,
            "max_height": null,
            "max_width": null,
            "min_height": null,
            "min_width": null,
            "object_fit": null,
            "object_position": null,
            "order": null,
            "overflow": null,
            "overflow_x": null,
            "overflow_y": null,
            "padding": null,
            "right": null,
            "top": null,
            "visibility": null,
            "width": null
          }
        },
        "71c057f323964b14ab9c35db2ff285a5": {
          "model_module": "@jupyter-widgets/base",
          "model_name": "LayoutModel",
          "model_module_version": "1.2.0",
          "state": {
            "_model_module": "@jupyter-widgets/base",
            "_model_module_version": "1.2.0",
            "_model_name": "LayoutModel",
            "_view_count": null,
            "_view_module": "@jupyter-widgets/base",
            "_view_module_version": "1.2.0",
            "_view_name": "LayoutView",
            "align_content": null,
            "align_items": null,
            "align_self": null,
            "border": null,
            "bottom": null,
            "display": null,
            "flex": null,
            "flex_flow": null,
            "grid_area": null,
            "grid_auto_columns": null,
            "grid_auto_flow": null,
            "grid_auto_rows": null,
            "grid_column": null,
            "grid_gap": null,
            "grid_row": null,
            "grid_template_areas": null,
            "grid_template_columns": null,
            "grid_template_rows": null,
            "height": null,
            "justify_content": null,
            "justify_items": null,
            "left": null,
            "margin": null,
            "max_height": null,
            "max_width": null,
            "min_height": null,
            "min_width": null,
            "object_fit": null,
            "object_position": null,
            "order": null,
            "overflow": null,
            "overflow_x": null,
            "overflow_y": null,
            "padding": null,
            "right": null,
            "top": null,
            "visibility": null,
            "width": null
          }
        },
        "81b8109c24ba431ba6e85eb2138881ee": {
          "model_module": "@jupyter-widgets/controls",
          "model_name": "DescriptionStyleModel",
          "model_module_version": "1.5.0",
          "state": {
            "_model_module": "@jupyter-widgets/controls",
            "_model_module_version": "1.5.0",
            "_model_name": "DescriptionStyleModel",
            "_view_count": null,
            "_view_module": "@jupyter-widgets/base",
            "_view_module_version": "1.2.0",
            "_view_name": "StyleView",
            "description_width": ""
          }
        },
        "a0f6ce6e03934e6995df2b47e908ec3d": {
          "model_module": "@jupyter-widgets/base",
          "model_name": "LayoutModel",
          "model_module_version": "1.2.0",
          "state": {
            "_model_module": "@jupyter-widgets/base",
            "_model_module_version": "1.2.0",
            "_model_name": "LayoutModel",
            "_view_count": null,
            "_view_module": "@jupyter-widgets/base",
            "_view_module_version": "1.2.0",
            "_view_name": "LayoutView",
            "align_content": null,
            "align_items": null,
            "align_self": null,
            "border": null,
            "bottom": null,
            "display": null,
            "flex": null,
            "flex_flow": null,
            "grid_area": null,
            "grid_auto_columns": null,
            "grid_auto_flow": null,
            "grid_auto_rows": null,
            "grid_column": null,
            "grid_gap": null,
            "grid_row": null,
            "grid_template_areas": null,
            "grid_template_columns": null,
            "grid_template_rows": null,
            "height": null,
            "justify_content": null,
            "justify_items": null,
            "left": null,
            "margin": null,
            "max_height": null,
            "max_width": null,
            "min_height": null,
            "min_width": null,
            "object_fit": null,
            "object_position": null,
            "order": null,
            "overflow": null,
            "overflow_x": null,
            "overflow_y": null,
            "padding": null,
            "right": null,
            "top": null,
            "visibility": null,
            "width": null
          }
        },
        "a741a0ea04a14b2d893cecaf41d705b7": {
          "model_module": "@jupyter-widgets/controls",
          "model_name": "ProgressStyleModel",
          "model_module_version": "1.5.0",
          "state": {
            "_model_module": "@jupyter-widgets/controls",
            "_model_module_version": "1.5.0",
            "_model_name": "ProgressStyleModel",
            "_view_count": null,
            "_view_module": "@jupyter-widgets/base",
            "_view_module_version": "1.2.0",
            "_view_name": "StyleView",
            "bar_color": null,
            "description_width": ""
          }
        },
        "a1b11a37d542441d91103dff262e3b6d": {
          "model_module": "@jupyter-widgets/base",
          "model_name": "LayoutModel",
          "model_module_version": "1.2.0",
          "state": {
            "_model_module": "@jupyter-widgets/base",
            "_model_module_version": "1.2.0",
            "_model_name": "LayoutModel",
            "_view_count": null,
            "_view_module": "@jupyter-widgets/base",
            "_view_module_version": "1.2.0",
            "_view_name": "LayoutView",
            "align_content": null,
            "align_items": null,
            "align_self": null,
            "border": null,
            "bottom": null,
            "display": null,
            "flex": null,
            "flex_flow": null,
            "grid_area": null,
            "grid_auto_columns": null,
            "grid_auto_flow": null,
            "grid_auto_rows": null,
            "grid_column": null,
            "grid_gap": null,
            "grid_row": null,
            "grid_template_areas": null,
            "grid_template_columns": null,
            "grid_template_rows": null,
            "height": null,
            "justify_content": null,
            "justify_items": null,
            "left": null,
            "margin": null,
            "max_height": null,
            "max_width": null,
            "min_height": null,
            "min_width": null,
            "object_fit": null,
            "object_position": null,
            "order": null,
            "overflow": null,
            "overflow_x": null,
            "overflow_y": null,
            "padding": null,
            "right": null,
            "top": null,
            "visibility": null,
            "width": null
          }
        },
        "70602f6081f54599b22c1809b65b95a1": {
          "model_module": "@jupyter-widgets/controls",
          "model_name": "DescriptionStyleModel",
          "model_module_version": "1.5.0",
          "state": {
            "_model_module": "@jupyter-widgets/controls",
            "_model_module_version": "1.5.0",
            "_model_name": "DescriptionStyleModel",
            "_view_count": null,
            "_view_module": "@jupyter-widgets/base",
            "_view_module_version": "1.2.0",
            "_view_name": "StyleView",
            "description_width": ""
          }
        }
      }
    }
  },
  "nbformat": 4,
  "nbformat_minor": 0
}